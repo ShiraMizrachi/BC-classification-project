{
  "cells": [
    {
      "cell_type": "markdown",
      "metadata": {
        "id": "EecLL6cy-SVm"
      },
      "source": [
        "# Initialization and importing\n"
      ]
    },
    {
      "cell_type": "markdown",
      "metadata": {
        "id": "9jH4kNaOaSMn"
      },
      "source": [
        "## imports"
      ]
    },
    {
      "cell_type": "code",
      "execution_count": 1,
      "metadata": {
        "colab": {
          "base_uri": "https://localhost:8080/"
        },
        "id": "q390sXgWo60x",
        "outputId": "73448ff9-8854-4df3-8791-65a9fde20a22"
      },
      "outputs": [
        {
          "output_type": "stream",
          "name": "stdout",
          "text": [
            "Looking in indexes: https://pypi.org/simple, https://us-python.pkg.dev/colab-wheels/public/simple/\n",
            "Requirement already satisfied: pyyaml in /usr/local/lib/python3.7/dist-packages (3.13)\n",
            "Requirement already satisfied: h5py in /usr/local/lib/python3.7/dist-packages (3.1.0)\n",
            "Requirement already satisfied: numpy>=1.14.5 in /usr/local/lib/python3.7/dist-packages (from h5py) (1.21.6)\n",
            "Requirement already satisfied: cached-property in /usr/local/lib/python3.7/dist-packages (from h5py) (1.5.2)\n"
          ]
        }
      ],
      "source": [
        "!pip install -U -q PyDrive\n",
        "!pip install pyyaml h5py\n",
        "#!pip install q keras==2.3.1"
      ]
    },
    {
      "cell_type": "code",
      "execution_count": 2,
      "metadata": {
        "id": "iWIZJPHp4O1A"
      },
      "outputs": [],
      "source": [
        "\n",
        "from pydrive.auth import GoogleAuth\n",
        "from pydrive.drive import GoogleDrive \n",
        "from google.colab import auth \n",
        "from oauth2client.client import GoogleCredentials\n",
        "import tensorflow as tf\n",
        "from tensorflow import keras\n",
        "import sklearn.externals\n",
        "import joblib\n",
        "import pickle\n",
        "from tensorflow.keras.layers import Input\n",
        "from keras.models import Sequential\n",
        "from keras.models import Sequential\n",
        "from keras.layers import Dense\n",
        "import os\n",
        "from collections import Counter\n",
        "from collections import defaultdict\n",
        "from google.colab import drive\n",
        "from imblearn.combine import SMOTEENN, SMOTETomek\n",
        "from imblearn.over_sampling import RandomOverSampler, ADASYN, SMOTE\n",
        "from io import StringIO\n",
        "from itertools import cycle\n",
        "from keras.initializers import RandomNormal\n",
        "from keras.layers import Dense\n",
        "from keras.layers import Input, Dense\n",
        "from keras.models import Model, load_model\n",
        "from keras.models import Sequential\n",
        "from keras.wrappers.scikit_learn import KerasClassifier\n",
        "from numpy import loadtxt\n",
        "from scipy import interp\n",
        "from scipy.cluster import hierarchy\n",
        "from scipy.spatial.distance import squareform\n",
        "from scipy.stats import spearmanr\n",
        "from sklearn import datasets\n",
        "from sklearn import metrics\n",
        "from sklearn import model_selection\n",
        "from sklearn import svm\n",
        "from sklearn.datasets import load_breast_cancer\n",
        "from sklearn.datasets import make_classification\n",
        "from sklearn.datasets import make_regression\n",
        "from sklearn.decomposition import PCA\n",
        "from sklearn.decomposition import PCA, KernelPCA, SparsePCA, MiniBatchSparsePCA, NMF, TruncatedSVD, FastICA, FactorAnalysis, LatentDirichletAllocation\n",
        "from sklearn.discriminant_analysis import LinearDiscriminantAnalysis, QuadraticDiscriminantAnalysis\n",
        "from sklearn.ensemble import ExtraTreesClassifier\n",
        "from sklearn.ensemble import RandomForestClassifier\n",
        "from sklearn.ensemble import RandomTreesEmbedding, RandomForestClassifier, GradientBoostingClassifier, VotingClassifier\n",
        "from sklearn.feature_selection import RFECV\n",
        "from sklearn.feature_selection import SelectFdr\n",
        "from sklearn.feature_selection import SelectFromModel, SelectKBest, chi2, RFE, RFECV\n",
        "from sklearn.feature_selection import SelectKBest\n",
        "from sklearn.feature_selection import SelectKBest, chi2, f_classif\n",
        "from sklearn.impute import SimpleImputer\n",
        "from sklearn.inspection import permutation_importance\n",
        "from sklearn.linear_model import LinearRegression\n",
        "from sklearn.linear_model import LogisticRegression\n",
        "from sklearn.manifold import TSNE\n",
        "from sklearn.metrics import average_precision_score, precision_recall_curve, matthews_corrcoef, precision_score, recall_score, confusion_matrix, classification_report\n",
        "from sklearn.metrics import f1_score\n",
        "from sklearn.metrics import f1_score, precision_score, recall_score, confusion_matrix,classification_report\n",
        "from sklearn.metrics import f1_score, roc_auc_score, auc, cohen_kappa_score, precision_recall_curve, log_loss, roc_curve, classification_report, accuracy_score\n",
        "from sklearn.metrics import f1_score,recall_score,accuracy_score,precision_score\n",
        "from sklearn.metrics import mean_squared_error, mean_absolute_error\n",
        "from sklearn.model_selection import cross_val_score\n",
        "from sklearn.model_selection import GridSearchCV\n",
        "from sklearn.model_selection import GridSearchCV, LeaveOneOut, cross_val_score, cross_val_predict, StratifiedKFold, StratifiedShuffleSplit\n",
        "from sklearn.model_selection import KFold\n",
        "from sklearn.model_selection import ShuffleSplit,StratifiedKFold,cross_validate\n",
        "from sklearn.model_selection import StratifiedKFold\n",
        "from sklearn.model_selection import train_test_split\n",
        "from sklearn.multiclass import OneVsRestClassifier, OneVsOneClassifier\n",
        "from sklearn.naive_bayes import GaussianNB\n",
        "from sklearn.neighbors import KNeighborsClassifier\n",
        "from sklearn.neural_network import MLPClassifier, BernoulliRBM\n",
        "from sklearn.pipeline import make_pipeline\n",
        "from sklearn.pipeline import Pipeline\n",
        "from sklearn.preprocessing import  Normalizer, MinMaxScaler, StandardScaler, RobustScaler, LabelEncoder, label_binarize, QuantileTransformer\n",
        "from sklearn.preprocessing import StandardScaler\n",
        "from sklearn.svm import SVC\n",
        "from sklearn.svm import SVC, LinearSVC\n",
        "from sklearn.tree import DecisionTreeClassifier\n",
        "from sklearn.tree import DecisionTreeRegressor\n",
        "from sklearn.utils import shuffle\n",
        "from xgboost import XGBClassifier\n",
        "import matplotlib\n",
        "import matplotlib.pyplot as plt\n",
        "import numpy as np\n",
        "import os\n",
        "import os,sys\n",
        "import pandas as pd\n",
        "import plotly.express as px\n",
        "import requests\n",
        "import seaborn as sns\n",
        "import sklearn\n",
        "import sklearn.metrics\n",
        "import statistics\n",
        "import tensorflow\n",
        "seed=75\n",
        "np.random.seed(seed)"
      ]
    },
    {
      "cell_type": "code",
      "execution_count": 3,
      "metadata": {
        "colab": {
          "base_uri": "https://localhost:8080/"
        },
        "id": "pkN9MNYZ11BF",
        "outputId": "0b748575-db64-4fbc-ba1e-d48470ca557b"
      },
      "outputs": [
        {
          "output_type": "stream",
          "name": "stdout",
          "text": [
            "Mounted at /content/drive\n"
          ]
        }
      ],
      "source": [
        "from google.colab import drive\n",
        "drive.mount('/content/drive')"
      ]
    },
    {
      "cell_type": "markdown",
      "metadata": {
        "id": "qzsun-RSaV3M"
      },
      "source": [
        "## reading files from drive"
      ]
    },
    {
      "cell_type": "code",
      "execution_count": 4,
      "metadata": {
        "id": "UyxA3F7MU0hJ"
      },
      "outputs": [],
      "source": [
        "df = pd.read_csv('/content/drive/MyDrive/project/pr_er_her2.csv' ,sep=',')\n",
        "rna_seq = pd.read_csv('/content/drive/MyDrive/project/x_rna_seq2.csv' ,sep=',')\n",
        "mutation=pd.read_csv('/content/drive/MyDrive/project/y_mutations2.csv',sep=',')\n",
        "\n",
        "mutation=pd.read_csv('/content/drive/MyDrive/project/y_mutations2.csv',sep=',')"
      ]
    },
    {
      "cell_type": "code",
      "execution_count": 5,
      "metadata": {
        "id": "L7n9GiRKHzjI"
      },
      "outputs": [],
      "source": [
        "subtype_file=pd.read_csv('/content/drive/MyDrive/project/subtype_file.csv',sep=',')"
      ]
    },
    {
      "cell_type": "code",
      "execution_count": 6,
      "metadata": {
        "id": "_YWW2YUznybN"
      },
      "outputs": [],
      "source": [
        "df=df.replace(np.nan,\"unknown\")\n",
        "rna_seq=rna_seq.replace(np.nan,0)\n",
        "df=df.rename(columns={df.columns[0]: \"ID\"})\n",
        "rna_seq=rna_seq.rename(columns={rna_seq.columns[0]:\"ID\"})\n",
        "subtype_file=subtype_file.rename(columns={subtype_file.columns[0]:\"ID\"})\n",
        "subtype_file=subtype_file.rename(columns={subtype_file.columns[1]:\"Subtype\"})\n",
        "mutation=mutation.replace(np.nan,0)\n",
        "mutation=mutation.rename(columns={mutation.columns[0]:\"ID\"})\n",
        "mutation=mutation[['ID','TP53']]"
      ]
    },
    {
      "cell_type": "code",
      "execution_count": 7,
      "metadata": {
        "id": "NYUxk6k1VGU7"
      },
      "outputs": [],
      "source": [
        "file_RNA=pd.merge(rna_seq, df, how='inner', on=['ID'])\n",
        "file_subtype_rna=pd.merge(rna_seq,subtype_file,how='inner', on=['ID'])"
      ]
    },
    {
      "cell_type": "code",
      "execution_count": 8,
      "metadata": {
        "id": "5clZGP0znCSW"
      },
      "outputs": [],
      "source": [
        "file_RNA_her2=file_RNA.copy()\n",
        "file_RNA_her2.drop(file_RNA_her2[(file_RNA_her2['her2 receptor']!=\"Negative\") & (file_RNA_her2['her2 receptor']!=\"Positive\")].index, inplace=True)"
      ]
    },
    {
      "cell_type": "code",
      "execution_count": 9,
      "metadata": {
        "id": "uiE1VSEgnhMV"
      },
      "outputs": [],
      "source": [
        "p53=pd.merge(mutation, rna_seq, how='inner', on=['ID'])\n",
        "p53=p53.drop('ID',axis=1)\n",
        "p53=p53.rename(columns={p53.columns[0]: \"TP53\"})"
      ]
    },
    {
      "cell_type": "markdown",
      "metadata": {
        "id": "jHDiZH3aadjK"
      },
      "source": [
        "## pie charts"
      ]
    },
    {
      "cell_type": "code",
      "execution_count": 10,
      "metadata": {
        "id": "6eqJJhl2-RXm",
        "colab": {
          "base_uri": "https://localhost:8080/",
          "height": 265
        },
        "outputId": "443bfe95-f78b-4bfc-eca9-b25b365a1946"
      },
      "outputs": [
        {
          "output_type": "execute_result",
          "data": {
            "text/plain": [
              "<matplotlib.axes._subplots.AxesSubplot at 0x7f97e6abb550>"
            ]
          },
          "metadata": {},
          "execution_count": 10
        },
        {
          "output_type": "display_data",
          "data": {
            "text/plain": [
              "<Figure size 432x288 with 1 Axes>"
            ],
            "image/png": "[encoded data removed]"
          },
          "metadata": {}
        }
      ],
      "source": [
        "subtype_file.groupby(subtype_file.columns[1]).size().plot(kind='pie', autopct='%.2f')"
      ]
    },
    {
      "cell_type": "code",
      "execution_count": 11,
      "metadata": {
        "id": "x2O4mMC_IlyL",
        "colab": {
          "base_uri": "https://localhost:8080/",
          "height": 265
        },
        "outputId": "9f633521-dfd3-47b0-e80e-b86651b64f4d"
      },
      "outputs": [
        {
          "output_type": "execute_result",
          "data": {
            "text/plain": [
              "<matplotlib.axes._subplots.AxesSubplot at 0x7f97dc05bd50>"
            ]
          },
          "metadata": {},
          "execution_count": 11
        },
        {
          "output_type": "display_data",
          "data": {
            "text/plain": [
              "<Figure size 432x288 with 1 Axes>"
            ],
            "image/png": "[encoded data removed]"
          },
          "metadata": {}
        }
      ],
      "source": [
        "df.groupby('estrogen receptor').size().plot(kind='pie', autopct='%.2f')"
      ]
    },
    {
      "cell_type": "code",
      "execution_count": 12,
      "metadata": {
        "id": "2GYQd1brIow3",
        "colab": {
          "base_uri": "https://localhost:8080/",
          "height": 265
        },
        "outputId": "fa604a1d-ca7a-4bf5-b334-06ea8838d341"
      },
      "outputs": [
        {
          "output_type": "execute_result",
          "data": {
            "text/plain": [
              "<matplotlib.axes._subplots.AxesSubplot at 0x7f97cf39af10>"
            ]
          },
          "metadata": {},
          "execution_count": 12
        },
        {
          "output_type": "display_data",
          "data": {
            "text/plain": [
              "<Figure size 432x288 with 1 Axes>"
            ],
            "image/png": "[encoded data removed]"
          },
          "metadata": {}
        }
      ],
      "source": [
        "df.groupby('her2 receptor').size().plot(kind='pie', autopct='%.2f')"
      ]
    },
    {
      "cell_type": "code",
      "execution_count": 13,
      "metadata": {
        "id": "I0fttcGsIrJf",
        "colab": {
          "base_uri": "https://localhost:8080/",
          "height": 265
        },
        "outputId": "27e038e7-a1d4-4ada-d19a-6fc6f9eebf78"
      },
      "outputs": [
        {
          "output_type": "execute_result",
          "data": {
            "text/plain": [
              "<matplotlib.axes._subplots.AxesSubplot at 0x7f97e3d54450>"
            ]
          },
          "metadata": {},
          "execution_count": 13
        },
        {
          "output_type": "display_data",
          "data": {
            "text/plain": [
              "<Figure size 432x288 with 1 Axes>"
            ],
            "image/png": "[encoded data removed]"
          },
          "metadata": {}
        }
      ],
      "source": [
        "df.groupby('progesterone receptor').size().plot(kind='pie', autopct='%.2f')"
      ]
    },
    {
      "cell_type": "code",
      "execution_count": 14,
      "metadata": {
        "id": "vvX_Hr50nl0g",
        "colab": {
          "base_uri": "https://localhost:8080/",
          "height": 265
        },
        "outputId": "004df6a9-6eba-4cfb-c62e-6ca360f793a9"
      },
      "outputs": [
        {
          "output_type": "execute_result",
          "data": {
            "text/plain": [
              "<matplotlib.axes._subplots.AxesSubplot at 0x7f97f024c790>"
            ]
          },
          "metadata": {},
          "execution_count": 14
        },
        {
          "output_type": "display_data",
          "data": {
            "text/plain": [
              "<Figure size 432x288 with 1 Axes>"
            ],
            "image/png": "[encoded data removed]"
          },
          "metadata": {}
        }
      ],
      "source": [
        "mutation.groupby('TP53').size().plot(kind='pie', autopct='%.2f')"
      ]
    },
    {
      "cell_type": "markdown",
      "metadata": {
        "id": "yrDPHzgf3hfI"
      },
      "source": [
        "# PCA"
      ]
    },
    {
      "cell_type": "code",
      "execution_count": 15,
      "metadata": {
        "id": "--qfGq6thOpC"
      },
      "outputs": [],
      "source": [
        "PCA_file=file_RNA.drop(['ID','estrogen receptor', 'her2 receptor','progesterone receptor'],axis=1)\n",
        "pca = PCA(n_components=2)\n",
        "pca_BC=pca.fit_transform(PCA_file)\n",
        "pcaDf = pd.DataFrame(data = pca_BC, columns = ['pca1', 'pca2'])"
      ]
    },
    {
      "cell_type": "markdown",
      "metadata": {
        "id": "II2K9QLFCHH9"
      },
      "source": [
        "## pca subtype"
      ]
    },
    {
      "cell_type": "code",
      "execution_count": 16,
      "metadata": {
        "id": "8ZmLzl4lEeuu"
      },
      "outputs": [],
      "source": [
        "file_subtype_rna=file_subtype_rna.replace(np.nan,0)\n",
        "#file_subtype_rna.replace(['LumA','LumB','Basal','Her2','Normal'],[1,2,3,4,0],inplace=True)"
      ]
    },
    {
      "cell_type": "code",
      "execution_count": 17,
      "metadata": {
        "id": "jHJEEXPwBpg2"
      },
      "outputs": [],
      "source": [
        "pcaSubytpe=pcaDf.copy()\n",
        "pcaSubytpe[\"Subtype\"]=file_subtype_rna[file_subtype_rna.columns[-1]]"
      ]
    },
    {
      "cell_type": "markdown",
      "metadata": {
        "id": "Zn1LaCrfJ_fm"
      },
      "source": [
        "## p53 PCA"
      ]
    },
    {
      "cell_type": "code",
      "execution_count": 18,
      "metadata": {
        "id": "8IYpjsaOJ-dK"
      },
      "outputs": [],
      "source": [
        "pcaP53=pcaDf.copy()\n",
        "pcaP53[\"TP53\"]=p53[\"TP53\"]\n",
        "pcaP53.replace([np.nan],[0],inplace=True)"
      ]
    },
    {
      "cell_type": "code",
      "execution_count": 19,
      "metadata": {
        "colab": {
          "base_uri": "https://localhost:8080/",
          "height": 0
        },
        "id": "FTjBjecbKJ5J",
        "outputId": "2d2ba5c1-f8ef-4edb-fe61-43b478c762ea"
      },
      "outputs": [
        {
          "output_type": "display_data",
          "data": {
            "text/plain": [
              "<Figure size 576x576 with 1 Axes>"
            ],
            "image/png": "[encoded data removed]"
          },
          "metadata": {
            "needs_background": "light"
          }
        }
      ],
      "source": [
        "fig = plt.figure(figsize = (8,8))\n",
        "ax = fig.add_subplot(1,1,1) \n",
        "ax.set_xlabel('pca1', fontsize = 15)\n",
        "ax.set_ylabel('pca2', fontsize = 15)\n",
        "ax.set_title('P53 PCA', fontsize = 20)\n",
        "targets =[1,0]\n",
        "colors = ['b', 'r']\n",
        "for target, color in zip(targets,colors):\n",
        "    indicesToKeep = pcaP53['TP53'] == target\n",
        "    ax.scatter(pcaP53.loc[indicesToKeep, 'pca1']\n",
        "               , pcaP53.loc[indicesToKeep, 'pca2']\n",
        "               , c = color\n",
        "               , s = 50)\n",
        "ax.legend(targets)\n",
        "ax.grid()"
      ]
    },
    {
      "cell_type": "code",
      "execution_count": 20,
      "metadata": {
        "colab": {
          "base_uri": "https://localhost:8080/",
          "height": 0
        },
        "id": "tcixG35cKMQ8",
        "outputId": "249081ea-36e0-4826-96ed-75816a698a2a"
      },
      "outputs": [
        {
          "output_type": "display_data",
          "data": {
            "text/plain": [
              "<Figure size 432x288 with 1 Axes>"
            ],
            "image/png": "[encoded data removed]"
          },
          "metadata": {
            "needs_background": "light"
          }
        }
      ],
      "source": [
        "X = p53.iloc[:,1:]\n",
        "y = p53.iloc[:,0]\n",
        "\n",
        "model = ExtraTreesClassifier()\n",
        "model.fit(X,y)\n",
        "feat_importances = pd.Series(model.feature_importances_, index=X.columns)\n",
        "feat_importances.nlargest(10).plot(kind='barh')\n",
        "plt.show()"
      ]
    },
    {
      "cell_type": "markdown",
      "metadata": {
        "id": "fD2x7uxB4D9O"
      },
      "source": [
        "## Estrogen PCA"
      ]
    },
    {
      "cell_type": "code",
      "execution_count": 21,
      "metadata": {
        "id": "OewPW2VTZXiI"
      },
      "outputs": [],
      "source": [
        "pcaDf[\"Estrogen\"]=file_RNA[\"estrogen receptor\"]\n",
        "pcaDf[\"Her2\"]=file_RNA[\"her2 receptor\"]\n",
        "pcaDf[\"Progesterone\"]=file_RNA[\"progesterone receptor\"]\n",
        "pcaDf.replace([\"Positive\",\"Negative\",\"Indeterminate\",\"Equivocal\",np.nan],[\"Positive\",\"Negative\",\"unknown\",\"unknown\",\"unknown\"],inplace=True)"
      ]
    },
    {
      "cell_type": "code",
      "execution_count": 22,
      "metadata": {
        "colab": {
          "base_uri": "https://localhost:8080/",
          "height": 0
        },
        "id": "6avHeg9koJyB",
        "outputId": "5bddc950-7af0-442d-96b9-cd5d3e130e7d"
      },
      "outputs": [
        {
          "output_type": "display_data",
          "data": {
            "text/plain": [
              "<Figure size 576x576 with 1 Axes>"
            ],
            "image/png": "[encoded data removed]"
          },
          "metadata": {
            "needs_background": "light"
          }
        }
      ],
      "source": [
        "fig = plt.figure(figsize = (8,8))\n",
        "ax = fig.add_subplot(1,1,1) \n",
        "ax.set_xlabel('pca1', fontsize = 15)\n",
        "ax.set_ylabel('pca2', fontsize = 15)\n",
        "ax.set_title('Estrogen PCA', fontsize = 20)\n",
        "targets =[\"Positive\",\"Negative\",\"unknown\"]\n",
        "colors = ['b', 'r','g']\n",
        "for target, color in zip(targets,colors):\n",
        "    indicesToKeep = pcaDf['Estrogen'] == target\n",
        "    ax.scatter(pcaDf.loc[indicesToKeep, 'pca1'], pcaDf.loc[indicesToKeep, 'pca2'], c = color, s = 50)\n",
        "ax.legend(targets)\n",
        "ax.grid()"
      ]
    },
    {
      "cell_type": "markdown",
      "metadata": {
        "id": "btr9qtap4aR_"
      },
      "source": [
        "The top genes associate with Estrogen type of breast cancer\n"
      ]
    },
    {
      "cell_type": "code",
      "source": [
        "X = file_RNA.iloc[:,1:-3] \n",
        "y = file_RNA.iloc[:,-3]   \n",
        "file_RNA.columns[-3]"
      ],
      "metadata": {
        "colab": {
          "base_uri": "https://localhost:8080/",
          "height": 0
        },
        "id": "ZEhyXPZ3Blt7",
        "outputId": "feaa5682-0a5f-46c4-8095-984e1b62b3c1"
      },
      "execution_count": 23,
      "outputs": [
        {
          "output_type": "execute_result",
          "data": {
            "text/plain": [
              "'estrogen receptor'"
            ],
            "application/vnd.google.colaboratory.intrinsic+json": {
              "type": "string"
            }
          },
          "metadata": {},
          "execution_count": 23
        }
      ]
    },
    {
      "cell_type": "code",
      "execution_count": 24,
      "metadata": {
        "colab": {
          "base_uri": "https://localhost:8080/",
          "height": 0
        },
        "id": "boQwleD1ef2g",
        "outputId": "1101cc33-09f8-4a46-b138-a9881dcfbe1e"
      },
      "outputs": [
        {
          "output_type": "display_data",
          "data": {
            "text/plain": [
              "<Figure size 432x288 with 1 Axes>"
            ],
            "image/png": "[encoded data removed]"
          },
          "metadata": {
            "needs_background": "light"
          }
        }
      ],
      "source": [
        "model = ExtraTreesClassifier()\n",
        "model.fit(X,y)\n",
        "feat_importances = pd.Series(model.feature_importances_, index=X.columns)\n",
        "feat_importances.nlargest(10).plot(kind='barh')\n",
        "plt.show()"
      ]
    },
    {
      "cell_type": "markdown",
      "metadata": {
        "id": "xylJRUnc6Tbh"
      },
      "source": [
        "## Progesterone PCA"
      ]
    },
    {
      "cell_type": "code",
      "execution_count": 25,
      "metadata": {
        "colab": {
          "base_uri": "https://localhost:8080/",
          "height": 0
        },
        "id": "i3vuCUeko_RE",
        "outputId": "b8259c36-6c7d-4d35-feb4-986c6b3b680a"
      },
      "outputs": [
        {
          "output_type": "display_data",
          "data": {
            "text/plain": [
              "<Figure size 576x576 with 1 Axes>"
            ],
            "image/png": "[encoded data removed]"
          },
          "metadata": {
            "needs_background": "light"
          }
        }
      ],
      "source": [
        "fig = plt.figure(figsize = (8,8))\n",
        "ax = fig.add_subplot(1,1,1) \n",
        "ax.set_xlabel('pca1', fontsize = 15)\n",
        "ax.set_ylabel('pca2', fontsize = 15)\n",
        "ax.set_title('Progesterone', fontsize = 20)\n",
        "targets =[\"Positive\",\"Negative\",\"unknown\"]\n",
        "colors = ['b', 'r','g']\n",
        "for target, color in zip(targets,colors):\n",
        "    indicesToKeep = pcaDf['Progesterone'] == target\n",
        "    ax.scatter(pcaDf.loc[indicesToKeep, 'pca1'], pcaDf.loc[indicesToKeep, 'pca2'], c = color, s = 50)\n",
        "ax.legend(targets)\n",
        "ax.grid()"
      ]
    },
    {
      "cell_type": "markdown",
      "metadata": {
        "id": "wohtWFxR64zY"
      },
      "source": [
        "The top genes associate with Progesterone type of breast cancer"
      ]
    },
    {
      "cell_type": "code",
      "source": [
        "X = file_RNA.iloc[:,1:-3] \n",
        "y = file_RNA.iloc[:,-1]   \n",
        "file_RNA.columns[-1]"
      ],
      "metadata": {
        "colab": {
          "base_uri": "https://localhost:8080/",
          "height": 0
        },
        "id": "RayxCHw_CDB_",
        "outputId": "4ff95d73-75e4-408e-9a06-cff6ab983688"
      },
      "execution_count": 26,
      "outputs": [
        {
          "output_type": "execute_result",
          "data": {
            "text/plain": [
              "'progesterone receptor'"
            ],
            "application/vnd.google.colaboratory.intrinsic+json": {
              "type": "string"
            }
          },
          "metadata": {},
          "execution_count": 26
        }
      ]
    },
    {
      "cell_type": "code",
      "execution_count": 27,
      "metadata": {
        "colab": {
          "base_uri": "https://localhost:8080/",
          "height": 0
        },
        "id": "8lblfvY-ipMP",
        "outputId": "3306b0f5-e22f-4f77-861f-46776acb3a11"
      },
      "outputs": [
        {
          "output_type": "display_data",
          "data": {
            "text/plain": [
              "<Figure size 432x288 with 1 Axes>"
            ],
            "image/png": "[encoded data removed]"
          },
          "metadata": {
            "needs_background": "light"
          }
        }
      ],
      "source": [
        "model = ExtraTreesClassifier()\n",
        "model.fit(X,y)\n",
        "#print(model.feature_importances_) \n",
        "feat_importances = pd.Series(model.feature_importances_, index=X.columns)\n",
        "feat_importances.nlargest(10).plot(kind='barh')\n",
        "plt.show()"
      ]
    },
    {
      "cell_type": "markdown",
      "metadata": {
        "id": "9tEeOGtiqV4c"
      },
      "source": [
        "## her2 pca "
      ]
    },
    {
      "cell_type": "markdown",
      "metadata": {
        "id": "LxiRZqLC9Dmm"
      },
      "source": [
        "### Her2 PCA"
      ]
    },
    {
      "cell_type": "code",
      "execution_count": 28,
      "metadata": {
        "colab": {
          "base_uri": "https://localhost:8080/",
          "height": 523
        },
        "id": "TIhOyl_ro1pL",
        "outputId": "3d64bcf0-682a-4204-a65e-6a907ae9ad45"
      },
      "outputs": [
        {
          "output_type": "display_data",
          "data": {
            "text/plain": [
              "<Figure size 576x576 with 1 Axes>"
            ],
            "image/png": "[encoded data removed]"
          },
          "metadata": {
            "needs_background": "light"
          }
        }
      ],
      "source": [
        "fig = plt.figure(figsize = (8,8))\n",
        "ax = fig.add_subplot(1,1,1) \n",
        "ax.set_xlabel('pca1', fontsize = 15)\n",
        "ax.set_ylabel('pca2', fontsize = 15)\n",
        "ax.set_title('Her2', fontsize = 20)\n",
        "targets =[\"Positive\",\"Negative\",\"unknown\"]\n",
        "colors = ['b', 'r','g']\n",
        "for target, color in zip(targets,colors):\n",
        "    indicesToKeep = pcaDf['Her2'] == target\n",
        "    ax.scatter(pcaDf.loc[indicesToKeep, 'pca1'], pcaDf.loc[indicesToKeep, 'pca2'], c = color, s = 50)\n",
        "ax.legend(targets)\n",
        "ax.grid()"
      ]
    },
    {
      "cell_type": "markdown",
      "metadata": {
        "id": "m03r8FRY9fRE"
      },
      "source": [
        "The top genes associate with Progesterone type of breast cancer"
      ]
    },
    {
      "cell_type": "code",
      "execution_count": 29,
      "metadata": {
        "colab": {
          "base_uri": "https://localhost:8080/",
          "height": 265
        },
        "id": "Tr6iYKOUi8ye",
        "outputId": "959516ab-a870-4d4d-d362-aa3e2e8c3760"
      },
      "outputs": [
        {
          "output_type": "display_data",
          "data": {
            "text/plain": [
              "<Figure size 432x288 with 1 Axes>"
            ],
            "image/png": "[encoded data removed]"
          },
          "metadata": {
            "needs_background": "light"
          }
        }
      ],
      "source": [
        "X = file_RNA.iloc[:,1:-3]  #independent columns\n",
        "y = file_RNA.iloc[:,-2]    #target column i.e price range\n",
        "\n",
        "model = ExtraTreesClassifier()\n",
        "model.fit(X,y)\n",
        "#print(model.feature_importances_) \n",
        "feat_importances = pd.Series(model.feature_importances_, index=X.columns)\n",
        "feat_importances.nlargest(10).plot(kind='barh')\n",
        "plt.show()"
      ]
    },
    {
      "cell_type": "markdown",
      "metadata": {
        "id": "xKfosR09a1-M"
      },
      "source": [
        "###  her2 (only positive and negative cases)"
      ]
    },
    {
      "cell_type": "code",
      "execution_count": 30,
      "metadata": {
        "id": "4mJNiWUDnIuY"
      },
      "outputs": [],
      "source": [
        "PCA_file_her2=file_RNA_her2.drop(['ID','estrogen receptor', 'her2 receptor','progesterone receptor'],axis=1)\n",
        "pca = PCA(n_components=2)\n",
        "pca_her2_BC=pca.fit_transform(PCA_file_her2)\n",
        "pcaDf_her2 = pd.DataFrame(data = pca_her2_BC, columns = ['pca1', 'pca2'])\n",
        "pcaDf_her2[\"Her2\"]=file_RNA_her2[\"her2 receptor\"]"
      ]
    },
    {
      "cell_type": "code",
      "execution_count": 31,
      "metadata": {
        "colab": {
          "base_uri": "https://localhost:8080/",
          "height": 0
        },
        "id": "Vd7e1SNMnfAq",
        "outputId": "e81b29a5-3070-4f64-aba6-5588154c2d56"
      },
      "outputs": [
        {
          "output_type": "display_data",
          "data": {
            "text/plain": [
              "<Figure size 576x576 with 1 Axes>"
            ],
            "image/png": "[encoded data removed]"
          },
          "metadata": {
            "needs_background": "light"
          }
        }
      ],
      "source": [
        "fig = plt.figure(figsize = (8,8))\n",
        "ax = fig.add_subplot(1,1,1) \n",
        "ax.set_xlabel('pca1', fontsize = 15)\n",
        "ax.set_ylabel('pca2', fontsize = 15)\n",
        "ax.set_title('Her2', fontsize = 20)\n",
        "targets =[\"Positive\",\"Negative\"]\n",
        "colors = ['b', 'r']\n",
        "for target, color in zip(targets,colors):\n",
        "    indicesToKeep = pcaDf_her2['Her2'] == target\n",
        "    ax.scatter(pcaDf_her2.loc[indicesToKeep, 'pca1'], pcaDf_her2.loc[indicesToKeep, 'pca2'], c = color, s = 50)\n",
        "ax.legend(targets)\n",
        "ax.grid()"
      ]
    },
    {
      "cell_type": "code",
      "execution_count": 32,
      "metadata": {
        "colab": {
          "base_uri": "https://localhost:8080/",
          "height": 0
        },
        "id": "M3mHkQmNqycN",
        "outputId": "e4f06d4b-e81e-40e8-99c2-ab7f71f78e1d"
      },
      "outputs": [
        {
          "output_type": "display_data",
          "data": {
            "text/plain": [
              "<Figure size 432x288 with 1 Axes>"
            ],
            "image/png": "[encoded data removed]"
          },
          "metadata": {
            "needs_background": "light"
          }
        }
      ],
      "source": [
        "X = file_RNA_her2.iloc[:,1:-3] \n",
        "y = file_RNA_her2.iloc[:,-2]   \n",
        "\n",
        "model = ExtraTreesClassifier()\n",
        "model.fit(X,y)\n",
        "feat_importances = pd.Series(model.feature_importances_, index=X.columns)\n",
        "feat_importances.nlargest(10).plot(kind='barh')\n",
        "plt.show()"
      ]
    },
    {
      "cell_type": "markdown",
      "source": [
        "##subtype pca"
      ],
      "metadata": {
        "id": "lOZwnuikCxbU"
      }
    },
    {
      "cell_type": "code",
      "execution_count": 33,
      "metadata": {
        "colab": {
          "base_uri": "https://localhost:8080/",
          "height": 0
        },
        "id": "wOAjaQFBCZLd",
        "outputId": "96d6d71a-040a-4d71-cb7d-9193372c5914"
      },
      "outputs": [
        {
          "output_type": "display_data",
          "data": {
            "text/plain": [
              "<Figure size 576x576 with 1 Axes>"
            ],
            "image/png": "[encoded data removed]"
          },
          "metadata": {
            "needs_background": "light"
          }
        }
      ],
      "source": [
        "fig = plt.figure(figsize = (8,8))\n",
        "ax = fig.add_subplot(1,1,1) \n",
        "ax.set_xlabel('pca1', fontsize = 15)\n",
        "ax.set_ylabel('pca2', fontsize = 15)\n",
        "ax.set_title('Subtype PCA', fontsize = 20)\n",
        "targets =['LumA','LumB','Basal','Her2','Normal']#[1,2,3,4,0]#\n",
        "colors = ['b', 'r','g','y','#00FFFF']\n",
        "for target, color in zip(targets,colors):\n",
        "    indicesToKeep = pcaSubytpe[\"Subtype\"] == target\n",
        "    ax.scatter(pcaSubytpe.loc[indicesToKeep, 'pca1']\n",
        "               , pcaSubytpe.loc[indicesToKeep, 'pca2']\n",
        "               , c = color\n",
        "               , s = 50)\n",
        "ax.legend(targets)\n",
        "ax.grid()"
      ]
    },
    {
      "cell_type": "code",
      "execution_count": 34,
      "metadata": {
        "colab": {
          "base_uri": "https://localhost:8080/",
          "height": 0
        },
        "id": "zE8T_vN7DdYK",
        "outputId": "76478ed8-ac5c-4277-d5bf-c8f9f7977397"
      },
      "outputs": [
        {
          "output_type": "display_data",
          "data": {
            "text/plain": [
              "<Figure size 432x288 with 1 Axes>"
            ],
            "image/png": "[encoded data removed]"
          },
          "metadata": {
            "needs_background": "light"
          }
        }
      ],
      "source": [
        "file_subtype_rna.replace(['LumA','LumB','Basal','Her2','Normal'],[1,2,3,4,0],inplace=True)\n",
        "X = file_subtype_rna.iloc[:,1:-1]\n",
        "y = file_subtype_rna.iloc[:,-1]\n",
        "\n",
        "model = ExtraTreesClassifier()\n",
        "model.fit(X,y)\n",
        "feat_importances = pd.Series(model.feature_importances_, index=X.columns)\n",
        "feat_importances.nlargest(10).plot(kind='barh')\n",
        "plt.show()"
      ]
    },
    {
      "cell_type": "markdown",
      "metadata": {
        "id": "x8q6MUMJ94Z2"
      },
      "source": [
        "# Classification"
      ]
    },
    {
      "cell_type": "markdown",
      "metadata": {
        "id": "iGNSuZ6bdWej"
      },
      "source": [
        "## classifiers list"
      ]
    },
    {
      "cell_type": "code",
      "execution_count": 35,
      "metadata": {
        "id": "NnYEowAZIYYT"
      },
      "outputs": [],
      "source": [
        "count=0\n",
        "aaecount=0\n",
        "figure=0\n",
        "classifiers = [\n",
        "    KNeighborsClassifier(5),\n",
        "    LogisticRegression(C=0.1, multi_class= 'multinomial', solver='sag', random_state=42),\n",
        "    DecisionTreeClassifier(random_state=42),\n",
        "    RandomForestClassifier(criterion='entropy', n_estimators=100, random_state=42),\n",
        "    LinearDiscriminantAnalysis(),\n",
        "    #SVC(kernel='rbf', probability=True, random_state=42)\n",
        "    ]"
      ]
    },
    {
      "cell_type": "code",
      "execution_count": null,
      "metadata": {
        "id": "DHjmC4fl_VXL"
      },
      "outputs": [],
      "source": [
        "new_input = pd.DataFrame((file_RNA.iloc[:,1:-3])[100:110],columns=(file_RNA.iloc[:,0:-3]).columns)\n",
        "new_input=new_input.drop(new_input.columns[0],axis=1)\n",
        "path = '/content/drive/MyDrive/project/output_10.csv'\n",
        "\n",
        "with open(path, 'w', encoding = 'utf-8-sig') as f:\n",
        "  new_input.to_csv(f)"
      ]
    },
    {
      "cell_type": "code",
      "source": [
        "(file_RNA.iloc[:,-3:])[100:110]"
      ],
      "metadata": {
        "colab": {
          "base_uri": "https://localhost:8080/",
          "height": 363
        },
        "id": "iIqxdxmyF7g3",
        "outputId": "874e137d-71c1-4288-92ae-6a3fc7594bd7"
      },
      "execution_count": null,
      "outputs": [
        {
          "output_type": "execute_result",
          "data": {
            "text/plain": [
              "    estrogen receptor her2 receptor progesterone receptor\n",
              "100          Positive      Positive              Positive\n",
              "101          Positive       unknown              Positive\n",
              "102          Positive      Negative              Positive\n",
              "103          Negative      Negative         Indeterminate\n",
              "104          Positive      Negative              Positive\n",
              "105          Positive      Negative              Positive\n",
              "106          Positive       unknown              Positive\n",
              "107          Positive      Negative              Positive\n",
              "108          Positive      Positive              Negative\n",
              "109          Positive      Positive              Positive"
            ],
            "text/html": [
              "\n",
              "  <div id=\"df-ff936393-6b32-4800-a528-bdae0d68c367\">\n",
              "    <div class=\"colab-df-container\">\n",
              "      <div>\n",
              "<style scoped>\n",
              "    .dataframe tbody tr th:only-of-type {\n",
              "        vertical-align: middle;\n",
              "    }\n",
              "\n",
              "    .dataframe tbody tr th {\n",
              "        vertical-align: top;\n",
              "    }\n",
              "\n",
              "    .dataframe thead th {\n",
              "        text-align: right;\n",
              "    }\n",
              "</style>\n",
              "<table border=\"1\" class=\"dataframe\">\n",
              "  <thead>\n",
              "    <tr style=\"text-align: right;\">\n",
              "      <th></th>\n",
              "      <th>estrogen receptor</th>\n",
              "      <th>her2 receptor</th>\n",
              "      <th>progesterone receptor</th>\n",
              "    </tr>\n",
              "  </thead>\n",
              "  <tbody>\n",
              "    <tr>\n",
              "      <th>100</th>\n",
              "      <td>Positive</td>\n",
              "      <td>Positive</td>\n",
              "      <td>Positive</td>\n",
              "    </tr>\n",
              "    <tr>\n",
              "      <th>101</th>\n",
              "      <td>Positive</td>\n",
              "      <td>unknown</td>\n",
              "      <td>Positive</td>\n",
              "    </tr>\n",
              "    <tr>\n",
              "      <th>102</th>\n",
              "      <td>Positive</td>\n",
              "      <td>Negative</td>\n",
              "      <td>Positive</td>\n",
              "    </tr>\n",
              "    <tr>\n",
              "      <th>103</th>\n",
              "      <td>Negative</td>\n",
              "      <td>Negative</td>\n",
              "      <td>Indeterminate</td>\n",
              "    </tr>\n",
              "    <tr>\n",
              "      <th>104</th>\n",
              "      <td>Positive</td>\n",
              "      <td>Negative</td>\n",
              "      <td>Positive</td>\n",
              "    </tr>\n",
              "    <tr>\n",
              "      <th>105</th>\n",
              "      <td>Positive</td>\n",
              "      <td>Negative</td>\n",
              "      <td>Positive</td>\n",
              "    </tr>\n",
              "    <tr>\n",
              "      <th>106</th>\n",
              "      <td>Positive</td>\n",
              "      <td>unknown</td>\n",
              "      <td>Positive</td>\n",
              "    </tr>\n",
              "    <tr>\n",
              "      <th>107</th>\n",
              "      <td>Positive</td>\n",
              "      <td>Negative</td>\n",
              "      <td>Positive</td>\n",
              "    </tr>\n",
              "    <tr>\n",
              "      <th>108</th>\n",
              "      <td>Positive</td>\n",
              "      <td>Positive</td>\n",
              "      <td>Negative</td>\n",
              "    </tr>\n",
              "    <tr>\n",
              "      <th>109</th>\n",
              "      <td>Positive</td>\n",
              "      <td>Positive</td>\n",
              "      <td>Positive</td>\n",
              "    </tr>\n",
              "  </tbody>\n",
              "</table>\n",
              "</div>\n",
              "      <button class=\"colab-df-convert\" onclick=\"convertToInteractive('df-ff936393-6b32-4800-a528-bdae0d68c367')\"\n",
              "              title=\"Convert this dataframe to an interactive table.\"\n",
              "              style=\"display:none;\">\n",
              "        \n",
              "  <svg xmlns=\"http://www.w3.org/2000/svg\" height=\"24px\"viewBox=\"0 0 24 24\"\n",
              "       width=\"24px\">\n",
              "    <path d=\"M0 0h24v24H0V0z\" fill=\"none\"/>\n",
              "    <path d=\"M18.56 5.44l.94 2.06.94-2.06 2.06-.94-2.06-.94-.94-2.06-.94 2.06-2.06.94zm-11 1L8.5 8.5l.94-2.06 2.06-.94-2.06-.94L8.5 2.5l-.94 2.06-2.06.94zm10 10l.94 2.06.94-2.06 2.06-.94-2.06-.94-.94-2.06-.94 2.06-2.06.94z\"/><path d=\"M17.41 7.96l-1.37-1.37c-.4-.4-.92-.59-1.43-.59-.52 0-1.04.2-1.43.59L10.3 9.45l-7.72 7.72c-.78.78-.78 2.05 0 2.83L4 21.41c.39.39.9.59 1.41.59.51 0 1.02-.2 1.41-.59l7.78-7.78 2.81-2.81c.8-.78.8-2.07 0-2.86zM5.41 20L4 18.59l7.72-7.72 1.47 1.35L5.41 20z\"/>\n",
              "  </svg>\n",
              "      </button>\n",
              "      \n",
              "  <style>\n",
              "    .colab-df-container {\n",
              "      display:flex;\n",
              "      flex-wrap:wrap;\n",
              "      gap: 12px;\n",
              "    }\n",
              "\n",
              "    .colab-df-convert {\n",
              "      background-color: #E8F0FE;\n",
              "      border: none;\n",
              "      border-radius: 50%;\n",
              "      cursor: pointer;\n",
              "      display: none;\n",
              "      fill: #1967D2;\n",
              "      height: 32px;\n",
              "      padding: 0 0 0 0;\n",
              "      width: 32px;\n",
              "    }\n",
              "\n",
              "    .colab-df-convert:hover {\n",
              "      background-color: #E2EBFA;\n",
              "      box-shadow: 0px 1px 2px rgba(60, 64, 67, 0.3), 0px 1px 3px 1px rgba(60, 64, 67, 0.15);\n",
              "      fill: #174EA6;\n",
              "    }\n",
              "\n",
              "    [theme=dark] .colab-df-convert {\n",
              "      background-color: #3B4455;\n",
              "      fill: #D2E3FC;\n",
              "    }\n",
              "\n",
              "    [theme=dark] .colab-df-convert:hover {\n",
              "      background-color: #434B5C;\n",
              "      box-shadow: 0px 1px 3px 1px rgba(0, 0, 0, 0.15);\n",
              "      filter: drop-shadow(0px 1px 2px rgba(0, 0, 0, 0.3));\n",
              "      fill: #FFFFFF;\n",
              "    }\n",
              "  </style>\n",
              "\n",
              "      <script>\n",
              "        const buttonEl =\n",
              "          document.querySelector('#df-ff936393-6b32-4800-a528-bdae0d68c367 button.colab-df-convert');\n",
              "        buttonEl.style.display =\n",
              "          google.colab.kernel.accessAllowed ? 'block' : 'none';\n",
              "\n",
              "        async function convertToInteractive(key) {\n",
              "          const element = document.querySelector('#df-ff936393-6b32-4800-a528-bdae0d68c367');\n",
              "          const dataTable =\n",
              "            await google.colab.kernel.invokeFunction('convertToInteractive',\n",
              "                                                     [key], {});\n",
              "          if (!dataTable) return;\n",
              "\n",
              "          const docLinkHtml = 'Like what you see? Visit the ' +\n",
              "            '<a target=\"_blank\" href=https://colab.research.google.com/notebooks/data_table.ipynb>data table notebook</a>'\n",
              "            + ' to learn more about interactive tables.';\n",
              "          element.innerHTML = '';\n",
              "          dataTable['output_type'] = 'display_data';\n",
              "          await google.colab.output.renderOutput(dataTable, element);\n",
              "          const docLink = document.createElement('div');\n",
              "          docLink.innerHTML = docLinkHtml;\n",
              "          element.appendChild(docLink);\n",
              "        }\n",
              "      </script>\n",
              "    </div>\n",
              "  </div>\n",
              "  "
            ]
          },
          "metadata": {},
          "execution_count": 17
        }
      ]
    },
    {
      "cell_type": "code",
      "execution_count": null,
      "metadata": {
        "id": "u8n99dmj6nGC"
      },
      "outputs": [],
      "source": [
        "new_input=pd.read_csv('/content/drive/MyDrive/project/output.csv',sep=',')"
      ]
    },
    {
      "cell_type": "code",
      "execution_count": null,
      "metadata": {
        "id": "c8dCi7kB6yEi"
      },
      "outputs": [],
      "source": [
        "new_input=new_input.drop(new_input.columns[0],axis=1)"
      ]
    },
    {
      "cell_type": "code",
      "execution_count": 36,
      "metadata": {
        "id": "o0v6vSp3_wRg"
      },
      "outputs": [],
      "source": [
        "file_RNA=file_RNA.replace(np.nan,\"unknow\")"
      ]
    },
    {
      "cell_type": "code",
      "execution_count": 37,
      "metadata": {
        "colab": {
          "base_uri": "https://localhost:8080/",
          "height": 505
        },
        "id": "01KEfAN4EMlA",
        "outputId": "b2f74f47-7078-41ba-bfaf-7827311a7665"
      },
      "outputs": [
        {
          "output_type": "execute_result",
          "data": {
            "text/plain": [
              "       TSPAN6      TNMD      DPM1     SCYL3  C1ORF112       FGR       CFH  \\\n",
              "0    3.800717  1.278754  3.424392  3.231724  2.733197  2.456366  3.371806   \n",
              "1    3.645717  0.698970  3.486997  3.221414  3.320769  3.116940  3.089552   \n",
              "2    3.401401  2.572872  3.398461  3.111934  2.985426  3.619093  4.222768   \n",
              "3    3.469085  2.264818  3.307710  3.453471  3.050380  3.115943  3.882581   \n",
              "4    3.427486  1.672098  3.208173  3.352761  3.012415  2.594393  3.501607   \n",
              "..        ...       ...       ...       ...       ...       ...       ...   \n",
              "974  2.927883  0.477121  3.033021  3.346939  2.952792  2.436163  2.965202   \n",
              "975  2.920645  0.954243  3.173478  3.274850  2.854306  2.408240  2.624282   \n",
              "976  3.435048  2.195900  3.064083  3.302980  2.729974  2.457882  3.222976   \n",
              "977  3.325516  1.929419  3.785259  3.461198  3.311754  2.670246  3.981864   \n",
              "978  3.464490  1.740363  3.241795  3.467756  2.833784  2.985875  3.991359   \n",
              "\n",
              "        FUCA2      GCLC      NFYA  ...   PAUPAR  AL512506.3  GIMAP1-GIMAP5  \\\n",
              "0    3.597146  3.361539  3.758988  ...  0.00000    0.301030        0.30103   \n",
              "1    3.806994  3.512551  3.918188  ...  0.00000    0.845098        0.00000   \n",
              "2    3.834802  3.618048  3.821645  ...  0.00000    1.079181        0.00000   \n",
              "3    3.632660  3.581153  3.511750  ...  0.00000    0.903090        0.00000   \n",
              "4    3.625004  3.262688  3.392169  ...  0.30103    0.778151        0.00000   \n",
              "..        ...       ...       ...  ...      ...         ...            ...   \n",
              "974  3.365488  3.295787  3.374748  ...  0.00000    0.000000        0.00000   \n",
              "975  3.324282  3.626238  3.365113  ...  0.00000    0.301030        0.00000   \n",
              "976  3.040998  3.485295  3.449633  ...  0.00000    0.477121        0.00000   \n",
              "977  3.632356  3.745699  3.676511  ...  0.00000    0.903090        0.30103   \n",
              "978  3.398981  3.326745  3.434569  ...  0.00000    0.477121        0.00000   \n",
              "\n",
              "     AC018638.8  LINC02246  AC233263.6   HERC2P7  SNORA50A.1  LINC01144  \\\n",
              "0      1.342423   1.477121    0.000000  0.000000     0.00000   2.139879   \n",
              "1      1.934498   1.176091    0.000000  0.000000     0.00000   1.799341   \n",
              "2      1.924279   1.079181    0.000000  0.000000     0.30103   1.518514   \n",
              "3      2.107210   1.763428    0.602060  0.301030     0.00000   1.748188   \n",
              "4      1.897627   1.322219    0.000000  0.301030     0.30103   1.973128   \n",
              "..          ...        ...         ...       ...         ...        ...   \n",
              "974    1.041393   1.176091    0.000000  0.000000     0.00000   1.579784   \n",
              "975    1.944483   1.431364    0.000000  0.301030     0.00000   2.110590   \n",
              "976    1.778151   1.556303    0.000000  0.000000     0.00000   2.000000   \n",
              "977    1.380211   1.518514    0.000000  0.477121     0.00000   2.338456   \n",
              "978    1.963788   1.380211    0.477121  0.301030     0.00000   1.959041   \n",
              "\n",
              "     AC007389.5  \n",
              "0      0.477121  \n",
              "1      0.000000  \n",
              "2      0.778151  \n",
              "3      0.845098  \n",
              "4      1.255273  \n",
              "..          ...  \n",
              "974    1.342423  \n",
              "975    0.301030  \n",
              "976    0.477121  \n",
              "977    0.301030  \n",
              "978    0.477121  \n",
              "\n",
              "[979 rows x 56498 columns]"
            ],
            "text/html": [
              "\n",
              "  <div id=\"df-861a96a7-cfe2-46a5-a3da-cc2dbb7266c4\">\n",
              "    <div class=\"colab-df-container\">\n",
              "      <div>\n",
              "<style scoped>\n",
              "    .dataframe tbody tr th:only-of-type {\n",
              "        vertical-align: middle;\n",
              "    }\n",
              "\n",
              "    .dataframe tbody tr th {\n",
              "        vertical-align: top;\n",
              "    }\n",
              "\n",
              "    .dataframe thead th {\n",
              "        text-align: right;\n",
              "    }\n",
              "</style>\n",
              "<table border=\"1\" class=\"dataframe\">\n",
              "  <thead>\n",
              "    <tr style=\"text-align: right;\">\n",
              "      <th></th>\n",
              "      <th>TSPAN6</th>\n",
              "      <th>TNMD</th>\n",
              "      <th>DPM1</th>\n",
              "      <th>SCYL3</th>\n",
              "      <th>C1ORF112</th>\n",
              "      <th>FGR</th>\n",
              "      <th>CFH</th>\n",
              "      <th>FUCA2</th>\n",
              "      <th>GCLC</th>\n",
              "      <th>NFYA</th>\n",
              "      <th>...</th>\n",
              "      <th>PAUPAR</th>\n",
              "      <th>AL512506.3</th>\n",
              "      <th>GIMAP1-GIMAP5</th>\n",
              "      <th>AC018638.8</th>\n",
              "      <th>LINC02246</th>\n",
              "      <th>AC233263.6</th>\n",
              "      <th>HERC2P7</th>\n",
              "      <th>SNORA50A.1</th>\n",
              "      <th>LINC01144</th>\n",
              "      <th>AC007389.5</th>\n",
              "    </tr>\n",
              "  </thead>\n",
              "  <tbody>\n",
              "    <tr>\n",
              "      <th>0</th>\n",
              "      <td>3.800717</td>\n",
              "      <td>1.278754</td>\n",
              "      <td>3.424392</td>\n",
              "      <td>3.231724</td>\n",
              "      <td>2.733197</td>\n",
              "      <td>2.456366</td>\n",
              "      <td>3.371806</td>\n",
              "      <td>3.597146</td>\n",
              "      <td>3.361539</td>\n",
              "      <td>3.758988</td>\n",
              "      <td>...</td>\n",
              "      <td>0.00000</td>\n",
              "      <td>0.301030</td>\n",
              "      <td>0.30103</td>\n",
              "      <td>1.342423</td>\n",
              "      <td>1.477121</td>\n",
              "      <td>0.000000</td>\n",
              "      <td>0.000000</td>\n",
              "      <td>0.00000</td>\n",
              "      <td>2.139879</td>\n",
              "      <td>0.477121</td>\n",
              "    </tr>\n",
              "    <tr>\n",
              "      <th>1</th>\n",
              "      <td>3.645717</td>\n",
              "      <td>0.698970</td>\n",
              "      <td>3.486997</td>\n",
              "      <td>3.221414</td>\n",
              "      <td>3.320769</td>\n",
              "      <td>3.116940</td>\n",
              "      <td>3.089552</td>\n",
              "      <td>3.806994</td>\n",
              "      <td>3.512551</td>\n",
              "      <td>3.918188</td>\n",
              "      <td>...</td>\n",
              "      <td>0.00000</td>\n",
              "      <td>0.845098</td>\n",
              "      <td>0.00000</td>\n",
              "      <td>1.934498</td>\n",
              "      <td>1.176091</td>\n",
              "      <td>0.000000</td>\n",
              "      <td>0.000000</td>\n",
              "      <td>0.00000</td>\n",
              "      <td>1.799341</td>\n",
              "      <td>0.000000</td>\n",
              "    </tr>\n",
              "    <tr>\n",
              "      <th>2</th>\n",
              "      <td>3.401401</td>\n",
              "      <td>2.572872</td>\n",
              "      <td>3.398461</td>\n",
              "      <td>3.111934</td>\n",
              "      <td>2.985426</td>\n",
              "      <td>3.619093</td>\n",
              "      <td>4.222768</td>\n",
              "      <td>3.834802</td>\n",
              "      <td>3.618048</td>\n",
              "      <td>3.821645</td>\n",
              "      <td>...</td>\n",
              "      <td>0.00000</td>\n",
              "      <td>1.079181</td>\n",
              "      <td>0.00000</td>\n",
              "      <td>1.924279</td>\n",
              "      <td>1.079181</td>\n",
              "      <td>0.000000</td>\n",
              "      <td>0.000000</td>\n",
              "      <td>0.30103</td>\n",
              "      <td>1.518514</td>\n",
              "      <td>0.778151</td>\n",
              "    </tr>\n",
              "    <tr>\n",
              "      <th>3</th>\n",
              "      <td>3.469085</td>\n",
              "      <td>2.264818</td>\n",
              "      <td>3.307710</td>\n",
              "      <td>3.453471</td>\n",
              "      <td>3.050380</td>\n",
              "      <td>3.115943</td>\n",
              "      <td>3.882581</td>\n",
              "      <td>3.632660</td>\n",
              "      <td>3.581153</td>\n",
              "      <td>3.511750</td>\n",
              "      <td>...</td>\n",
              "      <td>0.00000</td>\n",
              "      <td>0.903090</td>\n",
              "      <td>0.00000</td>\n",
              "      <td>2.107210</td>\n",
              "      <td>1.763428</td>\n",
              "      <td>0.602060</td>\n",
              "      <td>0.301030</td>\n",
              "      <td>0.00000</td>\n",
              "      <td>1.748188</td>\n",
              "      <td>0.845098</td>\n",
              "    </tr>\n",
              "    <tr>\n",
              "      <th>4</th>\n",
              "      <td>3.427486</td>\n",
              "      <td>1.672098</td>\n",
              "      <td>3.208173</td>\n",
              "      <td>3.352761</td>\n",
              "      <td>3.012415</td>\n",
              "      <td>2.594393</td>\n",
              "      <td>3.501607</td>\n",
              "      <td>3.625004</td>\n",
              "      <td>3.262688</td>\n",
              "      <td>3.392169</td>\n",
              "      <td>...</td>\n",
              "      <td>0.30103</td>\n",
              "      <td>0.778151</td>\n",
              "      <td>0.00000</td>\n",
              "      <td>1.897627</td>\n",
              "      <td>1.322219</td>\n",
              "      <td>0.000000</td>\n",
              "      <td>0.301030</td>\n",
              "      <td>0.30103</td>\n",
              "      <td>1.973128</td>\n",
              "      <td>1.255273</td>\n",
              "    </tr>\n",
              "    <tr>\n",
              "      <th>...</th>\n",
              "      <td>...</td>\n",
              "      <td>...</td>\n",
              "      <td>...</td>\n",
              "      <td>...</td>\n",
              "      <td>...</td>\n",
              "      <td>...</td>\n",
              "      <td>...</td>\n",
              "      <td>...</td>\n",
              "      <td>...</td>\n",
              "      <td>...</td>\n",
              "      <td>...</td>\n",
              "      <td>...</td>\n",
              "      <td>...</td>\n",
              "      <td>...</td>\n",
              "      <td>...</td>\n",
              "      <td>...</td>\n",
              "      <td>...</td>\n",
              "      <td>...</td>\n",
              "      <td>...</td>\n",
              "      <td>...</td>\n",
              "      <td>...</td>\n",
              "    </tr>\n",
              "    <tr>\n",
              "      <th>974</th>\n",
              "      <td>2.927883</td>\n",
              "      <td>0.477121</td>\n",
              "      <td>3.033021</td>\n",
              "      <td>3.346939</td>\n",
              "      <td>2.952792</td>\n",
              "      <td>2.436163</td>\n",
              "      <td>2.965202</td>\n",
              "      <td>3.365488</td>\n",
              "      <td>3.295787</td>\n",
              "      <td>3.374748</td>\n",
              "      <td>...</td>\n",
              "      <td>0.00000</td>\n",
              "      <td>0.000000</td>\n",
              "      <td>0.00000</td>\n",
              "      <td>1.041393</td>\n",
              "      <td>1.176091</td>\n",
              "      <td>0.000000</td>\n",
              "      <td>0.000000</td>\n",
              "      <td>0.00000</td>\n",
              "      <td>1.579784</td>\n",
              "      <td>1.342423</td>\n",
              "    </tr>\n",
              "    <tr>\n",
              "      <th>975</th>\n",
              "      <td>2.920645</td>\n",
              "      <td>0.954243</td>\n",
              "      <td>3.173478</td>\n",
              "      <td>3.274850</td>\n",
              "      <td>2.854306</td>\n",
              "      <td>2.408240</td>\n",
              "      <td>2.624282</td>\n",
              "      <td>3.324282</td>\n",
              "      <td>3.626238</td>\n",
              "      <td>3.365113</td>\n",
              "      <td>...</td>\n",
              "      <td>0.00000</td>\n",
              "      <td>0.301030</td>\n",
              "      <td>0.00000</td>\n",
              "      <td>1.944483</td>\n",
              "      <td>1.431364</td>\n",
              "      <td>0.000000</td>\n",
              "      <td>0.301030</td>\n",
              "      <td>0.00000</td>\n",
              "      <td>2.110590</td>\n",
              "      <td>0.301030</td>\n",
              "    </tr>\n",
              "    <tr>\n",
              "      <th>976</th>\n",
              "      <td>3.435048</td>\n",
              "      <td>2.195900</td>\n",
              "      <td>3.064083</td>\n",
              "      <td>3.302980</td>\n",
              "      <td>2.729974</td>\n",
              "      <td>2.457882</td>\n",
              "      <td>3.222976</td>\n",
              "      <td>3.040998</td>\n",
              "      <td>3.485295</td>\n",
              "      <td>3.449633</td>\n",
              "      <td>...</td>\n",
              "      <td>0.00000</td>\n",
              "      <td>0.477121</td>\n",
              "      <td>0.00000</td>\n",
              "      <td>1.778151</td>\n",
              "      <td>1.556303</td>\n",
              "      <td>0.000000</td>\n",
              "      <td>0.000000</td>\n",
              "      <td>0.00000</td>\n",
              "      <td>2.000000</td>\n",
              "      <td>0.477121</td>\n",
              "    </tr>\n",
              "    <tr>\n",
              "      <th>977</th>\n",
              "      <td>3.325516</td>\n",
              "      <td>1.929419</td>\n",
              "      <td>3.785259</td>\n",
              "      <td>3.461198</td>\n",
              "      <td>3.311754</td>\n",
              "      <td>2.670246</td>\n",
              "      <td>3.981864</td>\n",
              "      <td>3.632356</td>\n",
              "      <td>3.745699</td>\n",
              "      <td>3.676511</td>\n",
              "      <td>...</td>\n",
              "      <td>0.00000</td>\n",
              "      <td>0.903090</td>\n",
              "      <td>0.30103</td>\n",
              "      <td>1.380211</td>\n",
              "      <td>1.518514</td>\n",
              "      <td>0.000000</td>\n",
              "      <td>0.477121</td>\n",
              "      <td>0.00000</td>\n",
              "      <td>2.338456</td>\n",
              "      <td>0.301030</td>\n",
              "    </tr>\n",
              "    <tr>\n",
              "      <th>978</th>\n",
              "      <td>3.464490</td>\n",
              "      <td>1.740363</td>\n",
              "      <td>3.241795</td>\n",
              "      <td>3.467756</td>\n",
              "      <td>2.833784</td>\n",
              "      <td>2.985875</td>\n",
              "      <td>3.991359</td>\n",
              "      <td>3.398981</td>\n",
              "      <td>3.326745</td>\n",
              "      <td>3.434569</td>\n",
              "      <td>...</td>\n",
              "      <td>0.00000</td>\n",
              "      <td>0.477121</td>\n",
              "      <td>0.00000</td>\n",
              "      <td>1.963788</td>\n",
              "      <td>1.380211</td>\n",
              "      <td>0.477121</td>\n",
              "      <td>0.301030</td>\n",
              "      <td>0.00000</td>\n",
              "      <td>1.959041</td>\n",
              "      <td>0.477121</td>\n",
              "    </tr>\n",
              "  </tbody>\n",
              "</table>\n",
              "<p>979 rows × 56498 columns</p>\n",
              "</div>\n",
              "      <button class=\"colab-df-convert\" onclick=\"convertToInteractive('df-861a96a7-cfe2-46a5-a3da-cc2dbb7266c4')\"\n",
              "              title=\"Convert this dataframe to an interactive table.\"\n",
              "              style=\"display:none;\">\n",
              "        \n",
              "  <svg xmlns=\"http://www.w3.org/2000/svg\" height=\"24px\"viewBox=\"0 0 24 24\"\n",
              "       width=\"24px\">\n",
              "    <path d=\"M0 0h24v24H0V0z\" fill=\"none\"/>\n",
              "    <path d=\"M18.56 5.44l.94 2.06.94-2.06 2.06-.94-2.06-.94-.94-2.06-.94 2.06-2.06.94zm-11 1L8.5 8.5l.94-2.06 2.06-.94-2.06-.94L8.5 2.5l-.94 2.06-2.06.94zm10 10l.94 2.06.94-2.06 2.06-.94-2.06-.94-.94-2.06-.94 2.06-2.06.94z\"/><path d=\"M17.41 7.96l-1.37-1.37c-.4-.4-.92-.59-1.43-.59-.52 0-1.04.2-1.43.59L10.3 9.45l-7.72 7.72c-.78.78-.78 2.05 0 2.83L4 21.41c.39.39.9.59 1.41.59.51 0 1.02-.2 1.41-.59l7.78-7.78 2.81-2.81c.8-.78.8-2.07 0-2.86zM5.41 20L4 18.59l7.72-7.72 1.47 1.35L5.41 20z\"/>\n",
              "  </svg>\n",
              "      </button>\n",
              "      \n",
              "  <style>\n",
              "    .colab-df-container {\n",
              "      display:flex;\n",
              "      flex-wrap:wrap;\n",
              "      gap: 12px;\n",
              "    }\n",
              "\n",
              "    .colab-df-convert {\n",
              "      background-color: #E8F0FE;\n",
              "      border: none;\n",
              "      border-radius: 50%;\n",
              "      cursor: pointer;\n",
              "      display: none;\n",
              "      fill: #1967D2;\n",
              "      height: 32px;\n",
              "      padding: 0 0 0 0;\n",
              "      width: 32px;\n",
              "    }\n",
              "\n",
              "    .colab-df-convert:hover {\n",
              "      background-color: #E2EBFA;\n",
              "      box-shadow: 0px 1px 2px rgba(60, 64, 67, 0.3), 0px 1px 3px 1px rgba(60, 64, 67, 0.15);\n",
              "      fill: #174EA6;\n",
              "    }\n",
              "\n",
              "    [theme=dark] .colab-df-convert {\n",
              "      background-color: #3B4455;\n",
              "      fill: #D2E3FC;\n",
              "    }\n",
              "\n",
              "    [theme=dark] .colab-df-convert:hover {\n",
              "      background-color: #434B5C;\n",
              "      box-shadow: 0px 1px 3px 1px rgba(0, 0, 0, 0.15);\n",
              "      filter: drop-shadow(0px 1px 2px rgba(0, 0, 0, 0.3));\n",
              "      fill: #FFFFFF;\n",
              "    }\n",
              "  </style>\n",
              "\n",
              "      <script>\n",
              "        const buttonEl =\n",
              "          document.querySelector('#df-861a96a7-cfe2-46a5-a3da-cc2dbb7266c4 button.colab-df-convert');\n",
              "        buttonEl.style.display =\n",
              "          google.colab.kernel.accessAllowed ? 'block' : 'none';\n",
              "\n",
              "        async function convertToInteractive(key) {\n",
              "          const element = document.querySelector('#df-861a96a7-cfe2-46a5-a3da-cc2dbb7266c4');\n",
              "          const dataTable =\n",
              "            await google.colab.kernel.invokeFunction('convertToInteractive',\n",
              "                                                     [key], {});\n",
              "          if (!dataTable) return;\n",
              "\n",
              "          const docLinkHtml = 'Like what you see? Visit the ' +\n",
              "            '<a target=\"_blank\" href=https://colab.research.google.com/notebooks/data_table.ipynb>data table notebook</a>'\n",
              "            + ' to learn more about interactive tables.';\n",
              "          element.innerHTML = '';\n",
              "          dataTable['output_type'] = 'display_data';\n",
              "          await google.colab.output.renderOutput(dataTable, element);\n",
              "          const docLink = document.createElement('div');\n",
              "          docLink.innerHTML = docLinkHtml;\n",
              "          element.appendChild(docLink);\n",
              "        }\n",
              "      </script>\n",
              "    </div>\n",
              "  </div>\n",
              "  "
            ]
          },
          "metadata": {},
          "execution_count": 37
        }
      ],
      "source": [
        "file_RNA.iloc[:,1:-3]"
      ]
    },
    {
      "cell_type": "markdown",
      "metadata": {
        "id": "ggG53iErdGww"
      },
      "source": [
        "## Estrogen classification"
      ]
    },
    {
      "cell_type": "code",
      "execution_count": 38,
      "metadata": {
        "id": "_fv9-nCU-NqK"
      },
      "outputs": [],
      "source": [
        "X = file_RNA.iloc[:,1:-3] \n",
        "X = X[:].values \n",
        "y = file_RNA.iloc[:,-3]    \n",
        "y=y[:].values"
      ]
    },
    {
      "cell_type": "code",
      "execution_count": 39,
      "metadata": {
        "colab": {
          "base_uri": "https://localhost:8080/"
        },
        "id": "Eqln4bqr_fDj",
        "outputId": "cc7aefe5-55c5-4aaf-929f-9e9d871a76bd"
      },
      "outputs": [
        {
          "output_type": "stream",
          "name": "stdout",
          "text": [
            "==============================\n",
            "KNeighborsClassifier\n",
            "Results\n",
            "Accuracy: 82.6531%\n",
            "Precision: 76.6553%\n"
          ]
        },
        {
          "output_type": "stream",
          "name": "stderr",
          "text": [
            "/usr/local/lib/python3.7/dist-packages/sklearn/metrics/_classification.py:1318: UndefinedMetricWarning: Precision is ill-defined and being set to 0.0 in labels with no predicted samples. Use `zero_division` parameter to control this behavior.\n",
            "  _warn_prf(average, modifier, msg_start, len(result))\n",
            "/usr/local/lib/python3.7/dist-packages/sklearn/linear_model/_sag.py:354: ConvergenceWarning: The max_iter was reached which means the coef_ did not converge\n",
            "  ConvergenceWarning,\n",
            "/usr/local/lib/python3.7/dist-packages/sklearn/metrics/_classification.py:1318: UndefinedMetricWarning: Precision is ill-defined and being set to 0.0 in labels with no predicted samples. Use `zero_division` parameter to control this behavior.\n",
            "  _warn_prf(average, modifier, msg_start, len(result))\n"
          ]
        },
        {
          "output_type": "stream",
          "name": "stdout",
          "text": [
            "==============================\n",
            "LogisticRegression\n",
            "Results\n",
            "Accuracy: 86.2245%\n",
            "Precision: 80.4359%\n",
            "==============================\n",
            "DecisionTreeClassifier\n",
            "Results\n",
            "Accuracy: 77.5510%\n",
            "Precision: 74.5486%\n",
            "==============================\n",
            "RandomForestClassifier\n",
            "Results\n",
            "Accuracy: 86.7347%\n",
            "Precision: 80.8625%\n"
          ]
        },
        {
          "output_type": "stream",
          "name": "stderr",
          "text": [
            "/usr/local/lib/python3.7/dist-packages/sklearn/metrics/_classification.py:1318: UndefinedMetricWarning: Precision is ill-defined and being set to 0.0 in labels with no predicted samples. Use `zero_division` parameter to control this behavior.\n",
            "  _warn_prf(average, modifier, msg_start, len(result))\n"
          ]
        },
        {
          "output_type": "stream",
          "name": "stdout",
          "text": [
            "==============================\n",
            "LinearDiscriminantAnalysis\n",
            "Results\n",
            "Accuracy: 85.2041%\n",
            "Precision: 79.3517%\n"
          ]
        },
        {
          "output_type": "stream",
          "name": "stderr",
          "text": [
            "/usr/local/lib/python3.7/dist-packages/sklearn/metrics/_classification.py:1318: UndefinedMetricWarning: Precision is ill-defined and being set to 0.0 in labels with no predicted samples. Use `zero_division` parameter to control this behavior.\n",
            "  _warn_prf(average, modifier, msg_start, len(result))\n"
          ]
        },
        {
          "output_type": "stream",
          "name": "stdout",
          "text": [
            "==============================\n",
            "KNeighborsClassifier\n",
            "Results\n",
            "Accuracy: 84.6939%\n",
            "Precision: 81.4367%\n"
          ]
        },
        {
          "output_type": "stream",
          "name": "stderr",
          "text": [
            "/usr/local/lib/python3.7/dist-packages/sklearn/metrics/_classification.py:1318: UndefinedMetricWarning: Precision is ill-defined and being set to 0.0 in labels with no predicted samples. Use `zero_division` parameter to control this behavior.\n",
            "  _warn_prf(average, modifier, msg_start, len(result))\n",
            "/usr/local/lib/python3.7/dist-packages/sklearn/linear_model/_sag.py:354: ConvergenceWarning: The max_iter was reached which means the coef_ did not converge\n",
            "  ConvergenceWarning,\n",
            "/usr/local/lib/python3.7/dist-packages/sklearn/metrics/_classification.py:1318: UndefinedMetricWarning: Precision is ill-defined and being set to 0.0 in labels with no predicted samples. Use `zero_division` parameter to control this behavior.\n",
            "  _warn_prf(average, modifier, msg_start, len(result))\n"
          ]
        },
        {
          "output_type": "stream",
          "name": "stdout",
          "text": [
            "==============================\n",
            "LogisticRegression\n",
            "Results\n",
            "Accuracy: 89.7959%\n",
            "Precision: 85.6183%\n",
            "==============================\n",
            "DecisionTreeClassifier\n",
            "Results\n",
            "Accuracy: 84.1837%\n",
            "Precision: 84.1511%\n",
            "==============================\n",
            "RandomForestClassifier\n",
            "Results\n",
            "Accuracy: 87.7551%\n",
            "Precision: 83.7430%\n"
          ]
        },
        {
          "output_type": "stream",
          "name": "stderr",
          "text": [
            "/usr/local/lib/python3.7/dist-packages/sklearn/metrics/_classification.py:1318: UndefinedMetricWarning: Precision is ill-defined and being set to 0.0 in labels with no predicted samples. Use `zero_division` parameter to control this behavior.\n",
            "  _warn_prf(average, modifier, msg_start, len(result))\n"
          ]
        },
        {
          "output_type": "stream",
          "name": "stdout",
          "text": [
            "==============================\n",
            "LinearDiscriminantAnalysis\n",
            "Results\n",
            "Accuracy: 89.2857%\n",
            "Precision: 85.1220%\n"
          ]
        },
        {
          "output_type": "stream",
          "name": "stderr",
          "text": [
            "/usr/local/lib/python3.7/dist-packages/sklearn/metrics/_classification.py:1318: UndefinedMetricWarning: Precision is ill-defined and being set to 0.0 in labels with no predicted samples. Use `zero_division` parameter to control this behavior.\n",
            "  _warn_prf(average, modifier, msg_start, len(result))\n"
          ]
        },
        {
          "output_type": "stream",
          "name": "stdout",
          "text": [
            "==============================\n",
            "KNeighborsClassifier\n",
            "Results\n",
            "Accuracy: 89.7959%\n",
            "Precision: 86.2558%\n"
          ]
        },
        {
          "output_type": "stream",
          "name": "stderr",
          "text": [
            "/usr/local/lib/python3.7/dist-packages/sklearn/metrics/_classification.py:1318: UndefinedMetricWarning: Precision is ill-defined and being set to 0.0 in labels with no predicted samples. Use `zero_division` parameter to control this behavior.\n",
            "  _warn_prf(average, modifier, msg_start, len(result))\n",
            "/usr/local/lib/python3.7/dist-packages/sklearn/linear_model/_sag.py:354: ConvergenceWarning: The max_iter was reached which means the coef_ did not converge\n",
            "  ConvergenceWarning,\n",
            "/usr/local/lib/python3.7/dist-packages/sklearn/metrics/_classification.py:1318: UndefinedMetricWarning: Precision is ill-defined and being set to 0.0 in labels with no predicted samples. Use `zero_division` parameter to control this behavior.\n",
            "  _warn_prf(average, modifier, msg_start, len(result))\n"
          ]
        },
        {
          "output_type": "stream",
          "name": "stdout",
          "text": [
            "==============================\n",
            "LogisticRegression\n",
            "Results\n",
            "Accuracy: 91.3265%\n",
            "Precision: 87.6258%\n",
            "==============================\n",
            "DecisionTreeClassifier\n",
            "Results\n",
            "Accuracy: 81.1224%\n",
            "Precision: 82.8930%\n",
            "==============================\n",
            "RandomForestClassifier\n",
            "Results\n",
            "Accuracy: 92.3469%\n",
            "Precision: 88.6662%\n"
          ]
        },
        {
          "output_type": "stream",
          "name": "stderr",
          "text": [
            "/usr/local/lib/python3.7/dist-packages/sklearn/metrics/_classification.py:1318: UndefinedMetricWarning: Precision is ill-defined and being set to 0.0 in labels with no predicted samples. Use `zero_division` parameter to control this behavior.\n",
            "  _warn_prf(average, modifier, msg_start, len(result))\n"
          ]
        },
        {
          "output_type": "stream",
          "name": "stdout",
          "text": [
            "==============================\n",
            "LinearDiscriminantAnalysis\n",
            "Results\n",
            "Accuracy: 91.8367%\n",
            "Precision: 88.0795%\n"
          ]
        },
        {
          "output_type": "stream",
          "name": "stderr",
          "text": [
            "/usr/local/lib/python3.7/dist-packages/sklearn/metrics/_classification.py:1318: UndefinedMetricWarning: Precision is ill-defined and being set to 0.0 in labels with no predicted samples. Use `zero_division` parameter to control this behavior.\n",
            "  _warn_prf(average, modifier, msg_start, len(result))\n"
          ]
        },
        {
          "output_type": "stream",
          "name": "stdout",
          "text": [
            "==============================\n",
            "KNeighborsClassifier\n",
            "Results\n",
            "Accuracy: 82.6531%\n",
            "Precision: 78.6120%\n"
          ]
        },
        {
          "output_type": "stream",
          "name": "stderr",
          "text": [
            "/usr/local/lib/python3.7/dist-packages/sklearn/metrics/_classification.py:1318: UndefinedMetricWarning: Precision is ill-defined and being set to 0.0 in labels with no predicted samples. Use `zero_division` parameter to control this behavior.\n",
            "  _warn_prf(average, modifier, msg_start, len(result))\n",
            "/usr/local/lib/python3.7/dist-packages/sklearn/linear_model/_sag.py:354: ConvergenceWarning: The max_iter was reached which means the coef_ did not converge\n",
            "  ConvergenceWarning,\n",
            "/usr/local/lib/python3.7/dist-packages/sklearn/metrics/_classification.py:1318: UndefinedMetricWarning: Precision is ill-defined and being set to 0.0 in labels with no predicted samples. Use `zero_division` parameter to control this behavior.\n",
            "  _warn_prf(average, modifier, msg_start, len(result))\n"
          ]
        },
        {
          "output_type": "stream",
          "name": "stdout",
          "text": [
            "==============================\n",
            "LogisticRegression\n",
            "Results\n",
            "Accuracy: 88.2653%\n",
            "Precision: 84.1240%\n",
            "==============================\n",
            "DecisionTreeClassifier\n",
            "Results\n",
            "Accuracy: 78.0612%\n",
            "Precision: 78.7454%\n"
          ]
        },
        {
          "output_type": "stream",
          "name": "stderr",
          "text": [
            "/usr/local/lib/python3.7/dist-packages/sklearn/metrics/_classification.py:1318: UndefinedMetricWarning: Precision is ill-defined and being set to 0.0 in labels with no predicted samples. Use `zero_division` parameter to control this behavior.\n",
            "  _warn_prf(average, modifier, msg_start, len(result))\n"
          ]
        },
        {
          "output_type": "stream",
          "name": "stdout",
          "text": [
            "==============================\n",
            "RandomForestClassifier\n",
            "Results\n",
            "Accuracy: 86.7347%\n",
            "Precision: 82.5935%\n"
          ]
        },
        {
          "output_type": "stream",
          "name": "stderr",
          "text": [
            "/usr/local/lib/python3.7/dist-packages/sklearn/metrics/_classification.py:1318: UndefinedMetricWarning: Precision is ill-defined and being set to 0.0 in labels with no predicted samples. Use `zero_division` parameter to control this behavior.\n",
            "  _warn_prf(average, modifier, msg_start, len(result))\n"
          ]
        },
        {
          "output_type": "stream",
          "name": "stdout",
          "text": [
            "==============================\n",
            "LinearDiscriminantAnalysis\n",
            "Results\n",
            "Accuracy: 87.7551%\n",
            "Precision: 83.6127%\n"
          ]
        },
        {
          "output_type": "stream",
          "name": "stderr",
          "text": [
            "/usr/local/lib/python3.7/dist-packages/sklearn/metrics/_classification.py:1318: UndefinedMetricWarning: Precision is ill-defined and being set to 0.0 in labels with no predicted samples. Use `zero_division` parameter to control this behavior.\n",
            "  _warn_prf(average, modifier, msg_start, len(result))\n"
          ]
        },
        {
          "output_type": "stream",
          "name": "stdout",
          "text": [
            "==============================\n",
            "KNeighborsClassifier\n",
            "Results\n",
            "Accuracy: 85.6410%\n",
            "Precision: 81.6559%\n"
          ]
        },
        {
          "output_type": "stream",
          "name": "stderr",
          "text": [
            "/usr/local/lib/python3.7/dist-packages/sklearn/metrics/_classification.py:1318: UndefinedMetricWarning: Precision is ill-defined and being set to 0.0 in labels with no predicted samples. Use `zero_division` parameter to control this behavior.\n",
            "  _warn_prf(average, modifier, msg_start, len(result))\n",
            "/usr/local/lib/python3.7/dist-packages/sklearn/linear_model/_sag.py:354: ConvergenceWarning: The max_iter was reached which means the coef_ did not converge\n",
            "  ConvergenceWarning,\n",
            "/usr/local/lib/python3.7/dist-packages/sklearn/metrics/_classification.py:1318: UndefinedMetricWarning: Precision is ill-defined and being set to 0.0 in labels with no predicted samples. Use `zero_division` parameter to control this behavior.\n",
            "  _warn_prf(average, modifier, msg_start, len(result))\n"
          ]
        },
        {
          "output_type": "stream",
          "name": "stdout",
          "text": [
            "==============================\n",
            "LogisticRegression\n",
            "Results\n",
            "Accuracy: 88.7179%\n",
            "Precision: 85.0371%\n",
            "==============================\n",
            "DecisionTreeClassifier\n",
            "Results\n",
            "Accuracy: 75.8974%\n",
            "Precision: 81.2701%\n",
            "==============================\n",
            "RandomForestClassifier\n",
            "Results\n",
            "Accuracy: 87.6923%\n",
            "Precision: 83.8840%\n"
          ]
        },
        {
          "output_type": "stream",
          "name": "stderr",
          "text": [
            "/usr/local/lib/python3.7/dist-packages/sklearn/metrics/_classification.py:1318: UndefinedMetricWarning: Precision is ill-defined and being set to 0.0 in labels with no predicted samples. Use `zero_division` parameter to control this behavior.\n",
            "  _warn_prf(average, modifier, msg_start, len(result))\n"
          ]
        },
        {
          "output_type": "stream",
          "name": "stdout",
          "text": [
            "==============================\n",
            "LinearDiscriminantAnalysis\n",
            "Results\n",
            "Accuracy: 87.6923%\n",
            "Precision: 84.0483%\n"
          ]
        },
        {
          "output_type": "stream",
          "name": "stderr",
          "text": [
            "/usr/local/lib/python3.7/dist-packages/sklearn/metrics/_classification.py:1318: UndefinedMetricWarning: Precision is ill-defined and being set to 0.0 in labels with no predicted samples. Use `zero_division` parameter to control this behavior.\n",
            "  _warn_prf(average, modifier, msg_start, len(result))\n"
          ]
        }
      ],
      "source": [
        "best_er_model=0\n",
        "best_pre=0\n",
        "best_acc=0\n",
        "y_test_er=0\n",
        "kf = KFold(n_splits=5) \n",
        "kf.get_n_splits(X)\n",
        "KFold(n_splits=5, random_state=seed, shuffle=True)\n",
        "\n",
        "for train_index, test_index in kf.split(X):\n",
        "  x_train, x_test = X[train_index], X[test_index]\n",
        "  y_train, y_test = y[train_index], y[test_index]\n",
        "\n",
        "  qt = QuantileTransformer(n_quantiles=10, random_state=seed)\n",
        "  qt.fit(x_train)\n",
        "\n",
        "  x_train=qt.transform(x_train)\n",
        "  x_test=qt.transform(x_test)\n",
        "\n",
        "  for clf in classifiers:\n",
        "    clf.fit(x_train, y_train)\n",
        "    name = clf.__class__.__name__\n",
        "    print(\"==\"*15)\n",
        "    print(name)\n",
        "    print('Results')\n",
        "    y_pred = clf.predict(x_test)\n",
        "    y_pred_proba = clf.predict_proba(x_test)\n",
        "    acc=accuracy_score(y_test, y_pred)\n",
        "    print(\"Accuracy: {:.4%}\".format(acc))\n",
        "    pre=precision_score(y_test, y_pred, average='weighted')\n",
        "    if (best_acc<acc):\n",
        "      y_test_er=y_test_er\n",
        "      best_pre=pre\n",
        "      best_acc=acc\n",
        "      best_er_model=clf\n",
        "    print(\"Precision: {:.4%}\".format(pre))\n",
        " "
      ]
    },
    {
      "cell_type": "code",
      "execution_count": 40,
      "metadata": {
        "id": "JZNhftiuxKC5",
        "colab": {
          "base_uri": "https://localhost:8080/"
        },
        "outputId": "46d38f8e-cc1c-4bdd-a78d-0078ff5c422c"
      },
      "outputs": [
        {
          "output_type": "execute_result",
          "data": {
            "text/plain": [
              "['/content/drive/MyDrive/project/er_model.sav']"
            ]
          },
          "metadata": {},
          "execution_count": 40
        }
      ],
      "source": [
        "filename = '/content/drive/MyDrive/project/er_model.sav'\n",
        "joblib.dump(best_er_model, filename)"
      ]
    },
    {
      "cell_type": "code",
      "source": [
        "best_er_model"
      ],
      "metadata": {
        "id": "F4UD0z5VM8AQ",
        "colab": {
          "base_uri": "https://localhost:8080/"
        },
        "outputId": "ef32372a-3beb-4c58-85ba-5ff6fd5a2ad1"
      },
      "execution_count": 41,
      "outputs": [
        {
          "output_type": "execute_result",
          "data": {
            "text/plain": [
              "RandomForestClassifier(criterion='entropy', random_state=42)"
            ]
          },
          "metadata": {},
          "execution_count": 41
        }
      ]
    },
    {
      "cell_type": "markdown",
      "metadata": {
        "id": "mMnrNqElL3M0"
      },
      "source": [
        "## Progesterone classification"
      ]
    },
    {
      "cell_type": "code",
      "execution_count": null,
      "metadata": {
        "id": "3Z_8Z5lwwQVV"
      },
      "outputs": [],
      "source": [
        "X = file_RNA.iloc[:,1:-3]  \n",
        "y = file_RNA.iloc[:,-1] \n",
        "X = X[:].values   \n",
        "y=y[:].values"
      ]
    },
    {
      "cell_type": "code",
      "execution_count": null,
      "metadata": {
        "colab": {
          "base_uri": "https://localhost:8080/"
        },
        "id": "hj6L5XGjLZ1y",
        "outputId": "d4cf965f-2326-470e-94c4-c95791b16158"
      },
      "outputs": [
        {
          "output_type": "stream",
          "name": "stdout",
          "text": [
            "==============================\n",
            "KNeighborsClassifier\n",
            "Results\n",
            "Accuracy: 80.1020%\n",
            "Precision: 74.2510%\n"
          ]
        },
        {
          "output_type": "stream",
          "name": "stderr",
          "text": [
            "/usr/local/lib/python3.7/dist-packages/sklearn/metrics/_classification.py:1318: UndefinedMetricWarning: Precision is ill-defined and being set to 0.0 in labels with no predicted samples. Use `zero_division` parameter to control this behavior.\n",
            "  _warn_prf(average, modifier, msg_start, len(result))\n",
            "/usr/local/lib/python3.7/dist-packages/sklearn/linear_model/_sag.py:354: ConvergenceWarning: The max_iter was reached which means the coef_ did not converge\n",
            "  ConvergenceWarning,\n",
            "/usr/local/lib/python3.7/dist-packages/sklearn/metrics/_classification.py:1318: UndefinedMetricWarning: Precision is ill-defined and being set to 0.0 in labels with no predicted samples. Use `zero_division` parameter to control this behavior.\n",
            "  _warn_prf(average, modifier, msg_start, len(result))\n"
          ]
        },
        {
          "output_type": "stream",
          "name": "stdout",
          "text": [
            "==============================\n",
            "LogisticRegression\n",
            "Results\n",
            "Accuracy: 81.1224%\n",
            "Precision: 75.2460%\n",
            "==============================\n",
            "DecisionTreeClassifier\n",
            "Results\n",
            "Accuracy: 68.8776%\n",
            "Precision: 69.1085%\n",
            "==============================\n",
            "RandomForestClassifier\n",
            "Results\n",
            "Accuracy: 82.6531%\n",
            "Precision: 76.5767%\n"
          ]
        },
        {
          "output_type": "stream",
          "name": "stderr",
          "text": [
            "/usr/local/lib/python3.7/dist-packages/sklearn/metrics/_classification.py:1318: UndefinedMetricWarning: Precision is ill-defined and being set to 0.0 in labels with no predicted samples. Use `zero_division` parameter to control this behavior.\n",
            "  _warn_prf(average, modifier, msg_start, len(result))\n"
          ]
        },
        {
          "output_type": "stream",
          "name": "stdout",
          "text": [
            "==============================\n",
            "LinearDiscriminantAnalysis\n",
            "Results\n",
            "Accuracy: 84.1837%\n",
            "Precision: 77.9363%\n"
          ]
        },
        {
          "output_type": "stream",
          "name": "stderr",
          "text": [
            "/usr/local/lib/python3.7/dist-packages/sklearn/metrics/_classification.py:1318: UndefinedMetricWarning: Precision is ill-defined and being set to 0.0 in labels with no predicted samples. Use `zero_division` parameter to control this behavior.\n",
            "  _warn_prf(average, modifier, msg_start, len(result))\n"
          ]
        },
        {
          "output_type": "stream",
          "name": "stdout",
          "text": [
            "==============================\n",
            "KNeighborsClassifier\n",
            "Results\n",
            "Accuracy: 79.5918%\n",
            "Precision: 78.7883%\n"
          ]
        },
        {
          "output_type": "stream",
          "name": "stderr",
          "text": [
            "/usr/local/lib/python3.7/dist-packages/sklearn/metrics/_classification.py:1318: UndefinedMetricWarning: Precision is ill-defined and being set to 0.0 in labels with no predicted samples. Use `zero_division` parameter to control this behavior.\n",
            "  _warn_prf(average, modifier, msg_start, len(result))\n",
            "/usr/local/lib/python3.7/dist-packages/sklearn/linear_model/_sag.py:354: ConvergenceWarning: The max_iter was reached which means the coef_ did not converge\n",
            "  ConvergenceWarning,\n",
            "/usr/local/lib/python3.7/dist-packages/sklearn/metrics/_classification.py:1318: UndefinedMetricWarning: Precision is ill-defined and being set to 0.0 in labels with no predicted samples. Use `zero_division` parameter to control this behavior.\n",
            "  _warn_prf(average, modifier, msg_start, len(result))\n"
          ]
        },
        {
          "output_type": "stream",
          "name": "stdout",
          "text": [
            "==============================\n",
            "LogisticRegression\n",
            "Results\n",
            "Accuracy: 86.2245%\n",
            "Precision: 82.7004%\n",
            "==============================\n",
            "DecisionTreeClassifier\n",
            "Results\n",
            "Accuracy: 81.6327%\n",
            "Precision: 80.3242%\n",
            "==============================\n",
            "RandomForestClassifier\n",
            "Results\n",
            "Accuracy: 86.7347%\n",
            "Precision: 83.1275%\n"
          ]
        },
        {
          "output_type": "stream",
          "name": "stderr",
          "text": [
            "/usr/local/lib/python3.7/dist-packages/sklearn/metrics/_classification.py:1318: UndefinedMetricWarning: Precision is ill-defined and being set to 0.0 in labels with no predicted samples. Use `zero_division` parameter to control this behavior.\n",
            "  _warn_prf(average, modifier, msg_start, len(result))\n"
          ]
        },
        {
          "output_type": "stream",
          "name": "stdout",
          "text": [
            "==============================\n",
            "LinearDiscriminantAnalysis\n",
            "Results\n",
            "Accuracy: 86.7347%\n",
            "Precision: 83.3268%\n"
          ]
        },
        {
          "output_type": "stream",
          "name": "stderr",
          "text": [
            "/usr/local/lib/python3.7/dist-packages/sklearn/metrics/_classification.py:1318: UndefinedMetricWarning: Precision is ill-defined and being set to 0.0 in labels with no predicted samples. Use `zero_division` parameter to control this behavior.\n",
            "  _warn_prf(average, modifier, msg_start, len(result))\n"
          ]
        },
        {
          "output_type": "stream",
          "name": "stdout",
          "text": [
            "==============================\n",
            "KNeighborsClassifier\n",
            "Results\n",
            "Accuracy: 73.4694%\n",
            "Precision: 70.3495%\n"
          ]
        },
        {
          "output_type": "stream",
          "name": "stderr",
          "text": [
            "/usr/local/lib/python3.7/dist-packages/sklearn/metrics/_classification.py:1318: UndefinedMetricWarning: Precision is ill-defined and being set to 0.0 in labels with no predicted samples. Use `zero_division` parameter to control this behavior.\n",
            "  _warn_prf(average, modifier, msg_start, len(result))\n",
            "/usr/local/lib/python3.7/dist-packages/sklearn/linear_model/_sag.py:354: ConvergenceWarning: The max_iter was reached which means the coef_ did not converge\n",
            "  ConvergenceWarning,\n",
            "/usr/local/lib/python3.7/dist-packages/sklearn/metrics/_classification.py:1318: UndefinedMetricWarning: Precision is ill-defined and being set to 0.0 in labels with no predicted samples. Use `zero_division` parameter to control this behavior.\n",
            "  _warn_prf(average, modifier, msg_start, len(result))\n"
          ]
        },
        {
          "output_type": "stream",
          "name": "stdout",
          "text": [
            "==============================\n",
            "LogisticRegression\n",
            "Results\n",
            "Accuracy: 77.0408%\n",
            "Precision: 73.4238%\n",
            "==============================\n",
            "DecisionTreeClassifier\n",
            "Results\n",
            "Accuracy: 71.4286%\n",
            "Precision: 70.6863%\n"
          ]
        },
        {
          "output_type": "stream",
          "name": "stderr",
          "text": [
            "/usr/local/lib/python3.7/dist-packages/sklearn/metrics/_classification.py:1318: UndefinedMetricWarning: Precision is ill-defined and being set to 0.0 in labels with no predicted samples. Use `zero_division` parameter to control this behavior.\n",
            "  _warn_prf(average, modifier, msg_start, len(result))\n"
          ]
        },
        {
          "output_type": "stream",
          "name": "stdout",
          "text": [
            "==============================\n",
            "RandomForestClassifier\n",
            "Results\n",
            "Accuracy: 77.0408%\n",
            "Precision: 73.6985%\n"
          ]
        },
        {
          "output_type": "stream",
          "name": "stderr",
          "text": [
            "/usr/local/lib/python3.7/dist-packages/sklearn/metrics/_classification.py:1318: UndefinedMetricWarning: Precision is ill-defined and being set to 0.0 in labels with no predicted samples. Use `zero_division` parameter to control this behavior.\n",
            "  _warn_prf(average, modifier, msg_start, len(result))\n"
          ]
        },
        {
          "output_type": "stream",
          "name": "stdout",
          "text": [
            "==============================\n",
            "LinearDiscriminantAnalysis\n",
            "Results\n",
            "Accuracy: 77.0408%\n",
            "Precision: 73.4238%\n"
          ]
        },
        {
          "output_type": "stream",
          "name": "stderr",
          "text": [
            "/usr/local/lib/python3.7/dist-packages/sklearn/metrics/_classification.py:1318: UndefinedMetricWarning: Precision is ill-defined and being set to 0.0 in labels with no predicted samples. Use `zero_division` parameter to control this behavior.\n",
            "  _warn_prf(average, modifier, msg_start, len(result))\n"
          ]
        },
        {
          "output_type": "stream",
          "name": "stdout",
          "text": [
            "==============================\n",
            "KNeighborsClassifier\n",
            "Results\n",
            "Accuracy: 81.6327%\n",
            "Precision: 80.5431%\n"
          ]
        },
        {
          "output_type": "stream",
          "name": "stderr",
          "text": [
            "/usr/local/lib/python3.7/dist-packages/sklearn/metrics/_classification.py:1318: UndefinedMetricWarning: Precision is ill-defined and being set to 0.0 in labels with no predicted samples. Use `zero_division` parameter to control this behavior.\n",
            "  _warn_prf(average, modifier, msg_start, len(result))\n",
            "/usr/local/lib/python3.7/dist-packages/sklearn/linear_model/_sag.py:354: ConvergenceWarning: The max_iter was reached which means the coef_ did not converge\n",
            "  ConvergenceWarning,\n",
            "/usr/local/lib/python3.7/dist-packages/sklearn/metrics/_classification.py:1318: UndefinedMetricWarning: Precision is ill-defined and being set to 0.0 in labels with no predicted samples. Use `zero_division` parameter to control this behavior.\n",
            "  _warn_prf(average, modifier, msg_start, len(result))\n"
          ]
        },
        {
          "output_type": "stream",
          "name": "stdout",
          "text": [
            "==============================\n",
            "LogisticRegression\n",
            "Results\n",
            "Accuracy: 85.2041%\n",
            "Precision: 81.8950%\n",
            "==============================\n",
            "DecisionTreeClassifier\n",
            "Results\n",
            "Accuracy: 78.0612%\n",
            "Precision: 79.2744%\n",
            "==============================\n",
            "RandomForestClassifier\n",
            "Results\n",
            "Accuracy: 85.7143%\n",
            "Precision: 83.1598%\n"
          ]
        },
        {
          "output_type": "stream",
          "name": "stderr",
          "text": [
            "/usr/local/lib/python3.7/dist-packages/sklearn/metrics/_classification.py:1318: UndefinedMetricWarning: Precision is ill-defined and being set to 0.0 in labels with no predicted samples. Use `zero_division` parameter to control this behavior.\n",
            "  _warn_prf(average, modifier, msg_start, len(result))\n"
          ]
        },
        {
          "output_type": "stream",
          "name": "stdout",
          "text": [
            "==============================\n",
            "LinearDiscriminantAnalysis\n",
            "Results\n",
            "Accuracy: 85.2041%\n",
            "Precision: 82.2344%\n"
          ]
        },
        {
          "output_type": "stream",
          "name": "stderr",
          "text": [
            "/usr/local/lib/python3.7/dist-packages/sklearn/metrics/_classification.py:1318: UndefinedMetricWarning: Precision is ill-defined and being set to 0.0 in labels with no predicted samples. Use `zero_division` parameter to control this behavior.\n",
            "  _warn_prf(average, modifier, msg_start, len(result))\n"
          ]
        },
        {
          "output_type": "stream",
          "name": "stdout",
          "text": [
            "==============================\n",
            "KNeighborsClassifier\n",
            "Results\n",
            "Accuracy: 78.4615%\n",
            "Precision: 75.3702%\n"
          ]
        },
        {
          "output_type": "stream",
          "name": "stderr",
          "text": [
            "/usr/local/lib/python3.7/dist-packages/sklearn/metrics/_classification.py:1318: UndefinedMetricWarning: Precision is ill-defined and being set to 0.0 in labels with no predicted samples. Use `zero_division` parameter to control this behavior.\n",
            "  _warn_prf(average, modifier, msg_start, len(result))\n",
            "/usr/local/lib/python3.7/dist-packages/sklearn/linear_model/_sag.py:354: ConvergenceWarning: The max_iter was reached which means the coef_ did not converge\n",
            "  ConvergenceWarning,\n",
            "/usr/local/lib/python3.7/dist-packages/sklearn/metrics/_classification.py:1318: UndefinedMetricWarning: Precision is ill-defined and being set to 0.0 in labels with no predicted samples. Use `zero_division` parameter to control this behavior.\n",
            "  _warn_prf(average, modifier, msg_start, len(result))\n"
          ]
        },
        {
          "output_type": "stream",
          "name": "stdout",
          "text": [
            "==============================\n",
            "LogisticRegression\n",
            "Results\n",
            "Accuracy: 83.0769%\n",
            "Precision: 79.7504%\n",
            "==============================\n",
            "DecisionTreeClassifier\n",
            "Results\n",
            "Accuracy: 74.3590%\n",
            "Precision: 74.6178%\n",
            "==============================\n",
            "RandomForestClassifier\n",
            "Results\n",
            "Accuracy: 83.5897%\n",
            "Precision: 80.3936%\n"
          ]
        },
        {
          "output_type": "stream",
          "name": "stderr",
          "text": [
            "/usr/local/lib/python3.7/dist-packages/sklearn/metrics/_classification.py:1318: UndefinedMetricWarning: Precision is ill-defined and being set to 0.0 in labels with no predicted samples. Use `zero_division` parameter to control this behavior.\n",
            "  _warn_prf(average, modifier, msg_start, len(result))\n"
          ]
        },
        {
          "output_type": "stream",
          "name": "stdout",
          "text": [
            "==============================\n",
            "LinearDiscriminantAnalysis\n",
            "Results\n",
            "Accuracy: 82.5641%\n",
            "Precision: 79.2889%\n"
          ]
        },
        {
          "output_type": "stream",
          "name": "stderr",
          "text": [
            "/usr/local/lib/python3.7/dist-packages/sklearn/metrics/_classification.py:1318: UndefinedMetricWarning: Precision is ill-defined and being set to 0.0 in labels with no predicted samples. Use `zero_division` parameter to control this behavior.\n",
            "  _warn_prf(average, modifier, msg_start, len(result))\n"
          ]
        }
      ],
      "source": [
        "best_pr_model=0\n",
        "best_acc=0\n",
        "\n",
        "kf = KFold(n_splits=5) \n",
        "kf.get_n_splits(X)\n",
        "KFold(n_splits=5, random_state=seed, shuffle=True)\n",
        "for train_index, test_index in kf.split(X):\n",
        "  x_train, x_test = X[train_index], X[test_index]\n",
        "  y_train, y_test = y[train_index], y[test_index]\n",
        "\n",
        "  qt = QuantileTransformer(n_quantiles=10, random_state=seed)\n",
        "  qt.fit(x_train)\n",
        "  x_train=qt.transform(x_train)\n",
        "  x_test=qt.transform(x_test)\n",
        "\n",
        "  for clf in classifiers:\n",
        "    clf.fit(x_train, y_train)\n",
        "    name = clf.__class__.__name__\n",
        "    print(\"==\"*15)\n",
        "    print(name)\n",
        "    print('Results')\n",
        "    y_pred = clf.predict(x_test)\n",
        "    y_pred_proba = clf.predict_proba(x_test)\n",
        "    acc=accuracy_score(y_test, y_pred)\n",
        "    print(\"Accuracy: {:.4%}\".format(acc))\n",
        "    pre=precision_score(y_test, y_pred, average='weighted')\n",
        "    print(\"Precision: {:.4%}\".format(pre))\n",
        "    if (acc>best_acc):\n",
        "      best_acc=acc\n",
        "      best_pr_model=clf"
      ]
    },
    {
      "cell_type": "code",
      "execution_count": null,
      "metadata": {
        "colab": {
          "base_uri": "https://localhost:8080/"
        },
        "id": "ZLfEgiApxZzb",
        "outputId": "b726fc60-1abd-4c50-dcf4-076bb9b850a8"
      },
      "outputs": [
        {
          "output_type": "execute_result",
          "data": {
            "text/plain": [
              "['/content/drive/MyDrive/project/pr_model.sav']"
            ]
          },
          "metadata": {},
          "execution_count": 29
        }
      ],
      "source": [
        "filename = '/content/drive/MyDrive/project/pr_model.sav'\n",
        "joblib.dump(best_pr_model, filename)"
      ]
    },
    {
      "cell_type": "code",
      "execution_count": null,
      "metadata": {
        "colab": {
          "base_uri": "https://localhost:8080/"
        },
        "id": "NC3LRTl0xc3o",
        "outputId": "b5ecc579-0a99-4f9a-dc9e-010d8a89d156"
      },
      "outputs": [
        {
          "output_type": "stream",
          "name": "stdout",
          "text": [
            "RandomForestClassifier(criterion='entropy', random_state=42)\n"
          ]
        },
        {
          "output_type": "stream",
          "name": "stderr",
          "text": [
            "/usr/local/lib/python3.7/dist-packages/sklearn/base.py:444: UserWarning: X has feature names, but RandomForestClassifier was fitted without feature names\n",
            "  f\"X has feature names, but {self.__class__.__name__} was fitted without\"\n"
          ]
        },
        {
          "output_type": "stream",
          "name": "stdout",
          "text": [
            "['Positive' 'Positive' 'Positive' 'Positive']\n"
          ]
        }
      ],
      "source": [
        "filename = '/content/drive/MyDrive/project/pr_model.sav'\n",
        "loaded_model = joblib.load(filename)\n",
        "print(loaded_model)\n",
        "print(loaded_model.predict(new_input))"
      ]
    },
    {
      "cell_type": "markdown",
      "metadata": {
        "id": "ND3ySW6sOcfG"
      },
      "source": [
        "## p53 classification"
      ]
    },
    {
      "cell_type": "code",
      "execution_count": null,
      "metadata": {
        "id": "PBMRGt3xOcfH"
      },
      "outputs": [],
      "source": [
        "X = p53.iloc[:,1:]  \n",
        "y = p53.iloc[:,0] \n",
        "X = X[:].values   \n",
        "y=y[:].values"
      ]
    },
    {
      "cell_type": "code",
      "execution_count": null,
      "metadata": {
        "colab": {
          "base_uri": "https://localhost:8080/"
        },
        "outputId": "0fc78508-09b3-42a4-9eda-e911cc1dc78a",
        "id": "RPJdDOkBOcfH"
      },
      "outputs": [
        {
          "output_type": "stream",
          "name": "stdout",
          "text": [
            "==============================\n",
            "KNeighborsClassifier\n",
            "Results\n",
            "Accuracy: 80.1020%\n",
            "Precision: 80.4250%\n"
          ]
        },
        {
          "output_type": "stream",
          "name": "stderr",
          "text": [
            "/usr/local/lib/python3.7/dist-packages/sklearn/linear_model/_sag.py:354: ConvergenceWarning: The max_iter was reached which means the coef_ did not converge\n",
            "  ConvergenceWarning,\n"
          ]
        },
        {
          "output_type": "stream",
          "name": "stdout",
          "text": [
            "==============================\n",
            "LogisticRegression\n",
            "Results\n",
            "Accuracy: 85.7143%\n",
            "Precision: 85.5790%\n",
            "==============================\n",
            "DecisionTreeClassifier\n",
            "Results\n",
            "Accuracy: 75.5102%\n",
            "Precision: 75.8851%\n",
            "==============================\n",
            "RandomForestClassifier\n",
            "Results\n",
            "Accuracy: 85.7143%\n",
            "Precision: 86.0195%\n",
            "==============================\n",
            "LinearDiscriminantAnalysis\n",
            "Results\n",
            "Accuracy: 86.2245%\n",
            "Precision: 86.1273%\n",
            "==============================\n",
            "KNeighborsClassifier\n",
            "Results\n",
            "Accuracy: 76.5306%\n",
            "Precision: 76.1467%\n"
          ]
        },
        {
          "output_type": "stream",
          "name": "stderr",
          "text": [
            "/usr/local/lib/python3.7/dist-packages/sklearn/linear_model/_sag.py:354: ConvergenceWarning: The max_iter was reached which means the coef_ did not converge\n",
            "  ConvergenceWarning,\n"
          ]
        },
        {
          "output_type": "stream",
          "name": "stdout",
          "text": [
            "==============================\n",
            "LogisticRegression\n",
            "Results\n",
            "Accuracy: 85.2041%\n",
            "Precision: 85.5493%\n",
            "==============================\n",
            "DecisionTreeClassifier\n",
            "Results\n",
            "Accuracy: 79.0816%\n",
            "Precision: 79.5121%\n",
            "==============================\n",
            "RandomForestClassifier\n",
            "Results\n",
            "Accuracy: 83.1633%\n",
            "Precision: 82.9332%\n",
            "==============================\n",
            "LinearDiscriminantAnalysis\n",
            "Results\n",
            "Accuracy: 87.2449%\n",
            "Precision: 87.2928%\n",
            "==============================\n",
            "KNeighborsClassifier\n",
            "Results\n",
            "Accuracy: 83.6735%\n",
            "Precision: 84.3918%\n"
          ]
        },
        {
          "output_type": "stream",
          "name": "stderr",
          "text": [
            "/usr/local/lib/python3.7/dist-packages/sklearn/linear_model/_sag.py:354: ConvergenceWarning: The max_iter was reached which means the coef_ did not converge\n",
            "  ConvergenceWarning,\n"
          ]
        },
        {
          "output_type": "stream",
          "name": "stdout",
          "text": [
            "==============================\n",
            "LogisticRegression\n",
            "Results\n",
            "Accuracy: 88.7755%\n",
            "Precision: 88.7266%\n",
            "==============================\n",
            "DecisionTreeClassifier\n",
            "Results\n",
            "Accuracy: 81.6327%\n",
            "Precision: 81.7822%\n",
            "==============================\n",
            "RandomForestClassifier\n",
            "Results\n",
            "Accuracy: 85.2041%\n",
            "Precision: 85.3148%\n",
            "==============================\n",
            "LinearDiscriminantAnalysis\n",
            "Results\n",
            "Accuracy: 87.7551%\n",
            "Precision: 87.7369%\n",
            "==============================\n",
            "KNeighborsClassifier\n",
            "Results\n",
            "Accuracy: 76.0204%\n",
            "Precision: 76.9139%\n"
          ]
        },
        {
          "output_type": "stream",
          "name": "stderr",
          "text": [
            "/usr/local/lib/python3.7/dist-packages/sklearn/linear_model/_sag.py:354: ConvergenceWarning: The max_iter was reached which means the coef_ did not converge\n",
            "  ConvergenceWarning,\n"
          ]
        },
        {
          "output_type": "stream",
          "name": "stdout",
          "text": [
            "==============================\n",
            "LogisticRegression\n",
            "Results\n",
            "Accuracy: 83.1633%\n",
            "Precision: 83.0658%\n",
            "==============================\n",
            "DecisionTreeClassifier\n",
            "Results\n",
            "Accuracy: 81.1224%\n",
            "Precision: 80.9285%\n",
            "==============================\n",
            "RandomForestClassifier\n",
            "Results\n",
            "Accuracy: 79.5918%\n",
            "Precision: 79.9547%\n",
            "==============================\n",
            "LinearDiscriminantAnalysis\n",
            "Results\n",
            "Accuracy: 82.6531%\n",
            "Precision: 82.5660%\n",
            "==============================\n",
            "KNeighborsClassifier\n",
            "Results\n",
            "Accuracy: 78.9744%\n",
            "Precision: 78.3350%\n"
          ]
        },
        {
          "output_type": "stream",
          "name": "stderr",
          "text": [
            "/usr/local/lib/python3.7/dist-packages/sklearn/linear_model/_sag.py:354: ConvergenceWarning: The max_iter was reached which means the coef_ did not converge\n",
            "  ConvergenceWarning,\n"
          ]
        },
        {
          "output_type": "stream",
          "name": "stdout",
          "text": [
            "==============================\n",
            "LogisticRegression\n",
            "Results\n",
            "Accuracy: 87.1795%\n",
            "Precision: 87.0023%\n",
            "==============================\n",
            "DecisionTreeClassifier\n",
            "Results\n",
            "Accuracy: 81.5385%\n",
            "Precision: 82.3684%\n",
            "==============================\n",
            "RandomForestClassifier\n",
            "Results\n",
            "Accuracy: 87.6923%\n",
            "Precision: 87.8724%\n",
            "==============================\n",
            "LinearDiscriminantAnalysis\n",
            "Results\n",
            "Accuracy: 85.1282%\n",
            "Precision: 84.8749%\n"
          ]
        }
      ],
      "source": [
        "best_p53_model=0\n",
        "best_acc=0\n",
        "\n",
        "kf = KFold(n_splits=5) \n",
        "kf.get_n_splits(X)\n",
        "KFold(n_splits=5, random_state=seed, shuffle=True)\n",
        "for train_index, test_index in kf.split(X):\n",
        "  x_train, x_test = X[train_index], X[test_index]\n",
        "  y_train, y_test = y[train_index], y[test_index]\n",
        "\n",
        "  qt = QuantileTransformer(n_quantiles=10, random_state=seed)\n",
        "  qt.fit(x_train)\n",
        "  x_train=qt.transform(x_train)\n",
        "  x_test=qt.transform(x_test)\n",
        "\n",
        "  for clf in classifiers:\n",
        "    clf.fit(x_train, y_train)\n",
        "    name = clf.__class__.__name__\n",
        "    print(\"==\"*15)\n",
        "    print(name)\n",
        "    print('Results')\n",
        "    y_pred = clf.predict(x_test)\n",
        "    y_pred_proba = clf.predict_proba(x_test)\n",
        "    acc=accuracy_score(y_test, y_pred)\n",
        "    print(\"Accuracy: {:.4%}\".format(acc))\n",
        "    if (acc>best_acc):\n",
        "      best_acc=acc\n",
        "      best_p53_model=clf\n",
        "    print(\"Precision: {:.4%}\".format(precision_score(y_test, y_pred, average='weighted')))"
      ]
    },
    {
      "cell_type": "code",
      "execution_count": null,
      "metadata": {
        "colab": {
          "base_uri": "https://localhost:8080/"
        },
        "outputId": "fe5884d0-30a6-480f-ee14-37d819652801",
        "id": "kdUpuTmVOcfJ"
      },
      "outputs": [
        {
          "output_type": "execute_result",
          "data": {
            "text/plain": [
              "['/content/drive/MyDrive/project/p53_model.sav']"
            ]
          },
          "metadata": {},
          "execution_count": 51
        }
      ],
      "source": [
        "filename = '/content/drive/MyDrive/project/p53_model.sav'\n",
        "joblib.dump(best_p53_model, filename)"
      ]
    },
    {
      "cell_type": "markdown",
      "metadata": {
        "id": "eNLDj-d2L0WU"
      },
      "source": [
        "## Her2 classification"
      ]
    },
    {
      "cell_type": "code",
      "execution_count": null,
      "metadata": {
        "id": "R6ajG6dEe7EW"
      },
      "outputs": [],
      "source": [
        "X = file_RNA_her2.iloc[:,1:-3] \n",
        "y = file_RNA_her2.iloc[:,-2]  \n",
        "X = X[:].values   \n",
        "y=y[:].values"
      ]
    },
    {
      "cell_type": "code",
      "execution_count": null,
      "metadata": {
        "colab": {
          "base_uri": "https://localhost:8080/"
        },
        "id": "khz9LbSqrIKw",
        "outputId": "e4dc1c50-4de5-42ac-9bb3-0a3fe8951da1"
      },
      "outputs": [
        {
          "output_type": "stream",
          "name": "stdout",
          "text": [
            "==============================\n",
            "KNeighborsClassifier\n",
            "Results\n",
            "Accuracy: 79.0698%\n",
            "Precision: 76.8992%\n"
          ]
        },
        {
          "output_type": "stream",
          "name": "stderr",
          "text": [
            "/usr/local/lib/python3.7/dist-packages/sklearn/linear_model/_sag.py:354: ConvergenceWarning: The max_iter was reached which means the coef_ did not converge\n",
            "  ConvergenceWarning,\n"
          ]
        },
        {
          "output_type": "stream",
          "name": "stdout",
          "text": [
            "==============================\n",
            "LogisticRegression\n",
            "Results\n",
            "Accuracy: 82.1705%\n",
            "Precision: 83.3463%\n",
            "==============================\n",
            "DecisionTreeClassifier\n",
            "Results\n",
            "Accuracy: 78.2946%\n",
            "Precision: 76.9158%\n",
            "==============================\n",
            "RandomForestClassifier\n",
            "Results\n",
            "Accuracy: 84.4961%\n",
            "Precision: 87.1018%\n",
            "==============================\n",
            "LinearDiscriminantAnalysis\n",
            "Results\n",
            "Accuracy: 82.9457%\n",
            "Precision: 84.1313%\n",
            "==============================\n",
            "KNeighborsClassifier\n",
            "Results\n",
            "Accuracy: 81.3953%\n",
            "Precision: 82.7692%\n"
          ]
        },
        {
          "output_type": "stream",
          "name": "stderr",
          "text": [
            "/usr/local/lib/python3.7/dist-packages/sklearn/linear_model/_sag.py:354: ConvergenceWarning: The max_iter was reached which means the coef_ did not converge\n",
            "  ConvergenceWarning,\n"
          ]
        },
        {
          "output_type": "stream",
          "name": "stdout",
          "text": [
            "==============================\n",
            "LogisticRegression\n",
            "Results\n",
            "Accuracy: 86.0465%\n",
            "Precision: 85.8462%\n",
            "==============================\n",
            "DecisionTreeClassifier\n",
            "Results\n",
            "Accuracy: 82.9457%\n",
            "Precision: 82.9457%\n",
            "==============================\n",
            "RandomForestClassifier\n",
            "Results\n",
            "Accuracy: 83.7209%\n",
            "Precision: 86.5937%\n",
            "==============================\n",
            "LinearDiscriminantAnalysis\n",
            "Results\n",
            "Accuracy: 85.2713%\n",
            "Precision: 85.5672%\n",
            "==============================\n",
            "KNeighborsClassifier\n",
            "Results\n",
            "Accuracy: 86.8217%\n",
            "Precision: 85.2668%\n"
          ]
        },
        {
          "output_type": "stream",
          "name": "stderr",
          "text": [
            "/usr/local/lib/python3.7/dist-packages/sklearn/linear_model/_sag.py:354: ConvergenceWarning: The max_iter was reached which means the coef_ did not converge\n",
            "  ConvergenceWarning,\n"
          ]
        },
        {
          "output_type": "stream",
          "name": "stdout",
          "text": [
            "==============================\n",
            "LogisticRegression\n",
            "Results\n",
            "Accuracy: 89.9225%\n",
            "Precision: 89.4441%\n",
            "==============================\n",
            "DecisionTreeClassifier\n",
            "Results\n",
            "Accuracy: 77.5194%\n",
            "Precision: 82.8951%\n",
            "==============================\n",
            "RandomForestClassifier\n",
            "Results\n",
            "Accuracy: 89.1473%\n",
            "Precision: 89.1214%\n",
            "==============================\n",
            "LinearDiscriminantAnalysis\n",
            "Results\n",
            "Accuracy: 89.9225%\n",
            "Precision: 89.2622%\n",
            "==============================\n",
            "KNeighborsClassifier\n",
            "Results\n",
            "Accuracy: 77.5194%\n",
            "Precision: 74.9470%\n"
          ]
        },
        {
          "output_type": "stream",
          "name": "stderr",
          "text": [
            "/usr/local/lib/python3.7/dist-packages/sklearn/linear_model/_sag.py:354: ConvergenceWarning: The max_iter was reached which means the coef_ did not converge\n",
            "  ConvergenceWarning,\n"
          ]
        },
        {
          "output_type": "stream",
          "name": "stdout",
          "text": [
            "==============================\n",
            "LogisticRegression\n",
            "Results\n",
            "Accuracy: 85.2713%\n",
            "Precision: 85.5672%\n",
            "==============================\n",
            "DecisionTreeClassifier\n",
            "Results\n",
            "Accuracy: 79.0698%\n",
            "Precision: 79.8020%\n",
            "==============================\n",
            "RandomForestClassifier\n",
            "Results\n",
            "Accuracy: 86.0465%\n",
            "Precision: 88.2117%\n",
            "==============================\n",
            "LinearDiscriminantAnalysis\n",
            "Results\n",
            "Accuracy: 85.2713%\n",
            "Precision: 87.6632%\n",
            "==============================\n",
            "KNeighborsClassifier\n",
            "Results\n",
            "Accuracy: 72.8682%\n",
            "Precision: 70.4265%\n"
          ]
        },
        {
          "output_type": "stream",
          "name": "stderr",
          "text": [
            "/usr/local/lib/python3.7/dist-packages/sklearn/linear_model/_sag.py:354: ConvergenceWarning: The max_iter was reached which means the coef_ did not converge\n",
            "  ConvergenceWarning,\n"
          ]
        },
        {
          "output_type": "stream",
          "name": "stdout",
          "text": [
            "==============================\n",
            "LogisticRegression\n",
            "Results\n",
            "Accuracy: 82.9457%\n",
            "Precision: 84.1107%\n",
            "==============================\n",
            "DecisionTreeClassifier\n",
            "Results\n",
            "Accuracy: 77.5194%\n",
            "Precision: 77.0514%\n",
            "==============================\n",
            "RandomForestClassifier\n",
            "Results\n",
            "Accuracy: 79.0698%\n",
            "Precision: 83.8589%\n",
            "==============================\n",
            "LinearDiscriminantAnalysis\n",
            "Results\n",
            "Accuracy: 83.7209%\n",
            "Precision: 85.6237%\n"
          ]
        }
      ],
      "source": [
        "best_her2_model=0\n",
        "best_acc=0\n",
        "\n",
        "kf = KFold(n_splits=5) \n",
        "kf.get_n_splits(X)\n",
        "KFold(n_splits=5, random_state=seed, shuffle=True)\n",
        "for train_index, test_index in kf.split(X):\n",
        "  x_train, x_test = X[train_index], X[test_index]\n",
        "  y_train, y_test = y[train_index], y[test_index]\n",
        "\n",
        "  qt = QuantileTransformer(n_quantiles=10, random_state=seed)\n",
        "  qt.fit(x_train)\n",
        "  x_train=qt.transform(x_train)\n",
        "  x_test=qt.transform(x_test)\n",
        "\n",
        "  for clf in classifiers:\n",
        "           clf.fit(x_train, y_train)\n",
        "           name = clf.__class__.__name__\n",
        "           print(\"==\"*15)\n",
        "           print(name)\n",
        "           print('Results')\n",
        "           y_pred = clf.predict(x_test)\n",
        "           y_pred_proba = clf.predict_proba(x_test)\n",
        "           y_test_binarize = label_binarize(y_test, classes=[0,1,2,3])\n",
        "           acc=accuracy_score(y_test, y_pred)\n",
        "           print(\"Accuracy: {:.4%}\".format(acc))\n",
        "           if (acc>best_acc):\n",
        "             best_acc=acc\n",
        "             best_her2_model=clf\n",
        "           print(\"Precision: {:.4%}\".format(precision_score(y_test, y_pred, average='weighted')))\n"
      ]
    },
    {
      "cell_type": "code",
      "execution_count": null,
      "metadata": {
        "id": "GpvusJLoBOBZ"
      },
      "outputs": [],
      "source": [
        "file_RNA_her2"
      ]
    },
    {
      "cell_type": "code",
      "execution_count": null,
      "metadata": {
        "id": "sQxOuVv6BF3-",
        "colab": {
          "base_uri": "https://localhost:8080/"
        },
        "outputId": "d6829b4b-f75d-4410-8eb8-4b815c4d256a"
      },
      "outputs": [
        {
          "output_type": "execute_result",
          "data": {
            "text/plain": [
              "['/content/drive/MyDrive/project/her2_model.sav']"
            ]
          },
          "metadata": {},
          "execution_count": 36
        }
      ],
      "source": [
        "file_RNA_her2=file_RNA_her2.replace(np.nan,\"unknow\")\n",
        "#new_input = pd.DataFrame((file_RNA_her2.iloc[:,1:-3])[0:4],columns=(file_RNA_her2.iloc[:,0:-3]).columns)\n",
        "#new_input=new_input.drop(new_input.columns[0],axis=1)\n",
        "filename = '/content/drive/MyDrive/project/her2_model.sav'\n",
        "joblib.dump(best_her2_model, filename)"
      ]
    },
    {
      "cell_type": "code",
      "execution_count": null,
      "metadata": {
        "colab": {
          "base_uri": "https://localhost:8080/"
        },
        "id": "930iEg5BNS_z",
        "outputId": "3e0f5850-67cc-4575-b0f6-3ce8b9bab128"
      },
      "outputs": [
        {
          "output_type": "stream",
          "name": "stderr",
          "text": [
            "/usr/local/lib/python3.7/dist-packages/sklearn/base.py:444: UserWarning: X has feature names, but LogisticRegression was fitted without feature names\n",
            "  f\"X has feature names, but {self.__class__.__name__} was fitted without\"\n"
          ]
        },
        {
          "output_type": "stream",
          "name": "stdout",
          "text": [
            "LogisticRegression(C=0.1, multi_class='multinomial', random_state=42,\n",
            "                   solver='sag') ['Positive' 'Negative' 'Negative' 'Negative']\n"
          ]
        }
      ],
      "source": [
        "# some time later...\n",
        "\n",
        "loaded_model = joblib.load(filename)\n",
        "print(loaded_model,loaded_model.predict(new_input))"
      ]
    },
    {
      "cell_type": "markdown",
      "metadata": {
        "id": "US9I5vbRML3Q"
      },
      "source": [
        "## subtype"
      ]
    },
    {
      "cell_type": "code",
      "execution_count": null,
      "metadata": {
        "id": "8aWoJDlVOPD9"
      },
      "outputs": [],
      "source": [
        "file_subtype_rna=file_subtype_rna.replace(np.nan,\"Normal\")"
      ]
    },
    {
      "cell_type": "code",
      "execution_count": null,
      "metadata": {
        "id": "Ke4N9k1FMQxQ"
      },
      "outputs": [],
      "source": [
        "X = file_subtype_rna.iloc[:,1:-1]  \n",
        "y = file_subtype_rna.iloc[:,-1] \n",
        "X = X[:].values   \n",
        "y=y[:].values"
      ]
    },
    {
      "cell_type": "code",
      "execution_count": null,
      "metadata": {
        "colab": {
          "base_uri": "https://localhost:8080/"
        },
        "id": "zMnjVawSEFsJ",
        "outputId": "2bd44004-2ac7-4e0c-d572-be25f9d7b90a"
      },
      "outputs": [
        {
          "output_type": "execute_result",
          "data": {
            "text/plain": [
              "0        Her2\n",
              "1       Basal\n",
              "2       Basal\n",
              "3        LumA\n",
              "4        LumA\n",
              "        ...  \n",
              "974      LumA\n",
              "975      LumB\n",
              "976      LumA\n",
              "977      LumB\n",
              "978    Normal\n",
              "Name: Subtype, Length: 979, dtype: object"
            ]
          },
          "metadata": {},
          "execution_count": 44
        }
      ],
      "source": [
        "file_subtype_rna.iloc[:,-1]"
      ]
    },
    {
      "cell_type": "code",
      "execution_count": null,
      "metadata": {
        "colab": {
          "base_uri": "https://localhost:8080/"
        },
        "id": "Ks9ePgAIMKv5",
        "outputId": "f4c58bdd-e90b-4536-8f0a-6a8865789882"
      },
      "outputs": [
        {
          "output_type": "stream",
          "name": "stdout",
          "text": [
            "==============================\n",
            "KNeighborsClassifier\n",
            "Results\n",
            "Accuracy: 78.0612%\n",
            "Precision: 81.0428%\n"
          ]
        },
        {
          "output_type": "stream",
          "name": "stderr",
          "text": [
            "/usr/local/lib/python3.7/dist-packages/sklearn/linear_model/_sag.py:354: ConvergenceWarning: The max_iter was reached which means the coef_ did not converge\n",
            "  ConvergenceWarning,\n"
          ]
        },
        {
          "output_type": "stream",
          "name": "stdout",
          "text": [
            "==============================\n",
            "LogisticRegression\n",
            "Results\n",
            "Accuracy: 85.7143%\n",
            "Precision: 86.7382%\n",
            "==============================\n",
            "DecisionTreeClassifier\n",
            "Results\n",
            "Accuracy: 80.6122%\n",
            "Precision: 80.8155%\n",
            "==============================\n",
            "RandomForestClassifier\n",
            "Results\n",
            "Accuracy: 84.1837%\n",
            "Precision: 86.0806%\n",
            "==============================\n",
            "LinearDiscriminantAnalysis\n",
            "Results\n",
            "Accuracy: 86.2245%\n",
            "Precision: 86.6242%\n",
            "==============================\n",
            "KNeighborsClassifier\n",
            "Results\n",
            "Accuracy: 78.5714%\n",
            "Precision: 78.8378%\n"
          ]
        },
        {
          "output_type": "stream",
          "name": "stderr",
          "text": [
            "/usr/local/lib/python3.7/dist-packages/sklearn/linear_model/_sag.py:354: ConvergenceWarning: The max_iter was reached which means the coef_ did not converge\n",
            "  ConvergenceWarning,\n"
          ]
        },
        {
          "output_type": "stream",
          "name": "stdout",
          "text": [
            "==============================\n",
            "LogisticRegression\n",
            "Results\n",
            "Accuracy: 90.3061%\n",
            "Precision: 90.0467%\n",
            "==============================\n",
            "DecisionTreeClassifier\n",
            "Results\n",
            "Accuracy: 78.5714%\n",
            "Precision: 81.6445%\n",
            "==============================\n",
            "RandomForestClassifier\n",
            "Results\n",
            "Accuracy: 87.2449%\n",
            "Precision: 87.7693%\n",
            "==============================\n",
            "LinearDiscriminantAnalysis\n",
            "Results\n",
            "Accuracy: 91.3265%\n",
            "Precision: 91.3579%\n",
            "==============================\n",
            "KNeighborsClassifier\n",
            "Results\n",
            "Accuracy: 78.0612%\n",
            "Precision: 81.0463%\n"
          ]
        },
        {
          "output_type": "stream",
          "name": "stderr",
          "text": [
            "/usr/local/lib/python3.7/dist-packages/sklearn/linear_model/_sag.py:354: ConvergenceWarning: The max_iter was reached which means the coef_ did not converge\n",
            "  ConvergenceWarning,\n"
          ]
        },
        {
          "output_type": "stream",
          "name": "stdout",
          "text": [
            "==============================\n",
            "LogisticRegression\n",
            "Results\n",
            "Accuracy: 88.7755%\n",
            "Precision: 89.4269%\n",
            "==============================\n",
            "DecisionTreeClassifier\n",
            "Results\n",
            "Accuracy: 79.0816%\n",
            "Precision: 76.9631%\n",
            "==============================\n",
            "RandomForestClassifier\n",
            "Results\n",
            "Accuracy: 84.6939%\n",
            "Precision: 81.3486%\n"
          ]
        },
        {
          "output_type": "stream",
          "name": "stderr",
          "text": [
            "/usr/local/lib/python3.7/dist-packages/sklearn/metrics/_classification.py:1318: UndefinedMetricWarning: Precision is ill-defined and being set to 0.0 in labels with no predicted samples. Use `zero_division` parameter to control this behavior.\n",
            "  _warn_prf(average, modifier, msg_start, len(result))\n"
          ]
        },
        {
          "output_type": "stream",
          "name": "stdout",
          "text": [
            "==============================\n",
            "LinearDiscriminantAnalysis\n",
            "Results\n",
            "Accuracy: 88.7755%\n",
            "Precision: 88.5479%\n",
            "==============================\n",
            "KNeighborsClassifier\n",
            "Results\n",
            "Accuracy: 72.9592%\n",
            "Precision: 76.9310%\n"
          ]
        },
        {
          "output_type": "stream",
          "name": "stderr",
          "text": [
            "/usr/local/lib/python3.7/dist-packages/sklearn/linear_model/_sag.py:354: ConvergenceWarning: The max_iter was reached which means the coef_ did not converge\n",
            "  ConvergenceWarning,\n",
            "/usr/local/lib/python3.7/dist-packages/sklearn/metrics/_classification.py:1318: UndefinedMetricWarning: Precision is ill-defined and being set to 0.0 in labels with no predicted samples. Use `zero_division` parameter to control this behavior.\n",
            "  _warn_prf(average, modifier, msg_start, len(result))\n"
          ]
        },
        {
          "output_type": "stream",
          "name": "stdout",
          "text": [
            "==============================\n",
            "LogisticRegression\n",
            "Results\n",
            "Accuracy: 82.1429%\n",
            "Precision: 79.7058%\n",
            "==============================\n",
            "DecisionTreeClassifier\n",
            "Results\n",
            "Accuracy: 75.5102%\n",
            "Precision: 76.2026%\n",
            "==============================\n",
            "RandomForestClassifier\n",
            "Results\n",
            "Accuracy: 82.1429%\n",
            "Precision: 79.7375%\n"
          ]
        },
        {
          "output_type": "stream",
          "name": "stderr",
          "text": [
            "/usr/local/lib/python3.7/dist-packages/sklearn/metrics/_classification.py:1318: UndefinedMetricWarning: Precision is ill-defined and being set to 0.0 in labels with no predicted samples. Use `zero_division` parameter to control this behavior.\n",
            "  _warn_prf(average, modifier, msg_start, len(result))\n"
          ]
        },
        {
          "output_type": "stream",
          "name": "stdout",
          "text": [
            "==============================\n",
            "LinearDiscriminantAnalysis\n",
            "Results\n",
            "Accuracy: 85.2041%\n",
            "Precision: 85.1837%\n",
            "==============================\n",
            "KNeighborsClassifier\n",
            "Results\n",
            "Accuracy: 73.8462%\n",
            "Precision: 71.6336%\n"
          ]
        },
        {
          "output_type": "stream",
          "name": "stderr",
          "text": [
            "/usr/local/lib/python3.7/dist-packages/sklearn/linear_model/_sag.py:354: ConvergenceWarning: The max_iter was reached which means the coef_ did not converge\n",
            "  ConvergenceWarning,\n",
            "/usr/local/lib/python3.7/dist-packages/sklearn/metrics/_classification.py:1318: UndefinedMetricWarning: Precision is ill-defined and being set to 0.0 in labels with no predicted samples. Use `zero_division` parameter to control this behavior.\n",
            "  _warn_prf(average, modifier, msg_start, len(result))\n"
          ]
        },
        {
          "output_type": "stream",
          "name": "stdout",
          "text": [
            "==============================\n",
            "LogisticRegression\n",
            "Results\n",
            "Accuracy: 85.1282%\n",
            "Precision: 81.7989%\n",
            "==============================\n",
            "DecisionTreeClassifier\n",
            "Results\n",
            "Accuracy: 75.8974%\n",
            "Precision: 77.7796%\n",
            "==============================\n",
            "RandomForestClassifier\n",
            "Results\n",
            "Accuracy: 81.0256%\n",
            "Precision: 78.2202%\n"
          ]
        },
        {
          "output_type": "stream",
          "name": "stderr",
          "text": [
            "/usr/local/lib/python3.7/dist-packages/sklearn/metrics/_classification.py:1318: UndefinedMetricWarning: Precision is ill-defined and being set to 0.0 in labels with no predicted samples. Use `zero_division` parameter to control this behavior.\n",
            "  _warn_prf(average, modifier, msg_start, len(result))\n"
          ]
        },
        {
          "output_type": "stream",
          "name": "stdout",
          "text": [
            "==============================\n",
            "LinearDiscriminantAnalysis\n",
            "Results\n",
            "Accuracy: 86.6667%\n",
            "Precision: 86.8684%\n"
          ]
        }
      ],
      "source": [
        "best_subtype_model=0\n",
        "kf = KFold(n_splits=5) \n",
        "kf.get_n_splits(X)\n",
        "KFold(n_splits=5, random_state=seed, shuffle=True)\n",
        "for train_index, test_index in kf.split(X):\n",
        "  x_train, x_test = X[train_index], X[test_index]\n",
        "  y_train, y_test = y[train_index], y[test_index]\n",
        "\n",
        "  qt = QuantileTransformer(n_quantiles=10, random_state=seed)\n",
        "  qt.fit(x_train)\n",
        "  x_train=qt.transform(x_train)\n",
        "  x_test=qt.transform(x_test)\n",
        "\n",
        "  for clf in classifiers:\n",
        "    clf.fit(x_train, y_train)\n",
        "    name = clf.__class__.__name__\n",
        "    print(\"==\"*15)\n",
        "    print(name)\n",
        "    print('Results')\n",
        "    y_pred = clf.predict(x_test)\n",
        "    y_pred_proba = clf.predict_proba(x_test)\n",
        "    y_test_binarize = label_binarize(y_test, classes=[0,1,2,3])\n",
        "    acc=accuracy_score(y_test, y_pred)\n",
        "    print(\"Accuracy: {:.4%}\".format(acc))\n",
        "    if (acc>best_acc):\n",
        "      best_acc=acc\n",
        "      best_subtype_model=clf\n",
        "    print(\"Precision: {:.4%}\".format(precision_score(y_test, y_pred, average='weighted')))"
      ]
    },
    {
      "cell_type": "code",
      "execution_count": null,
      "metadata": {
        "id": "q8tR9TLSStKE"
      },
      "outputs": [],
      "source": [
        "best_subtype_model"
      ]
    },
    {
      "cell_type": "code",
      "execution_count": null,
      "metadata": {
        "id": "cvCAFpcVxqev"
      },
      "outputs": [],
      "source": [
        "joblib.dump(best_subtype_model,  '/content/drive/MyDrive/project/subtype_model.sav')"
      ]
    },
    {
      "cell_type": "code",
      "execution_count": null,
      "metadata": {
        "id": "MCDVrd25xtRC"
      },
      "outputs": [],
      "source": [
        "filename = '/content/drive/MyDrive/project/subtype_model.sav'\n",
        "loaded_model = joblib.load(filename)\n",
        "print(loaded_model.predict(new_input))"
      ]
    }
  ],
  "metadata": {
    "colab": {
      "collapsed_sections": [
        "EecLL6cy-SVm",
        "qzsun-RSaV3M",
        "jHDiZH3aadjK",
        "yrDPHzgf3hfI",
        "II2K9QLFCHH9",
        "Zn1LaCrfJ_fm",
        "fD2x7uxB4D9O",
        "xylJRUnc6Tbh",
        "9tEeOGtiqV4c",
        "xKfosR09a1-M",
        "lOZwnuikCxbU",
        "iGNSuZ6bdWej",
        "ggG53iErdGww",
        "mMnrNqElL3M0",
        "ND3ySW6sOcfG",
        "eNLDj-d2L0WU"
      ],
      "name": "RNA_Seq_classification_BreastCancer.ipynb",
      "provenance": []
    },
    "kernelspec": {
      "display_name": "Python 3",
      "name": "python3"
    },
    "language_info": {
      "name": "python"
    }
  },
  "nbformat": 4,
  "nbformat_minor": 0
}